{
  "nbformat": 4,
  "nbformat_minor": 0,
  "metadata": {
    "colab": {
      "name": "Untitled5.ipynb",
      "provenance": [],
      "toc_visible": true,
      "authorship_tag": "ABX9TyMt4FnjDI4DzJrz/iuLA1Qp",
      "include_colab_link": true
    },
    "kernelspec": {
      "name": "python3",
      "display_name": "Python 3"
    },
    "widgets": {
      "application/vnd.jupyter.widget-state+json": {
        "d8cfcdb65fc64930bfd4b6377e54ab49": {
          "model_module": "@jupyter-widgets/controls",
          "model_name": "HBoxModel",
          "state": {
            "_view_name": "HBoxView",
            "_dom_classes": [],
            "_model_name": "HBoxModel",
            "_view_module": "@jupyter-widgets/controls",
            "_model_module_version": "1.5.0",
            "_view_count": null,
            "_view_module_version": "1.5.0",
            "box_style": "",
            "layout": "IPY_MODEL_971116734e46496fb1b1f1236f14f657",
            "_model_module": "@jupyter-widgets/controls",
            "children": [
              "IPY_MODEL_056e7913dcd14f63b4d26632b33e8534",
              "IPY_MODEL_ed18f4d74721416a9283cdc9c69fb464"
            ]
          }
        },
        "971116734e46496fb1b1f1236f14f657": {
          "model_module": "@jupyter-widgets/base",
          "model_name": "LayoutModel",
          "state": {
            "_view_name": "LayoutView",
            "grid_template_rows": null,
            "right": null,
            "justify_content": null,
            "_view_module": "@jupyter-widgets/base",
            "overflow": null,
            "_model_module_version": "1.2.0",
            "_view_count": null,
            "flex_flow": null,
            "width": null,
            "min_width": null,
            "border": null,
            "align_items": null,
            "bottom": null,
            "_model_module": "@jupyter-widgets/base",
            "top": null,
            "grid_column": null,
            "overflow_y": null,
            "overflow_x": null,
            "grid_auto_flow": null,
            "grid_area": null,
            "grid_template_columns": null,
            "flex": null,
            "_model_name": "LayoutModel",
            "justify_items": null,
            "grid_row": null,
            "max_height": null,
            "align_content": null,
            "visibility": null,
            "align_self": null,
            "height": null,
            "min_height": null,
            "padding": null,
            "grid_auto_rows": null,
            "grid_gap": null,
            "max_width": null,
            "order": null,
            "_view_module_version": "1.2.0",
            "grid_template_areas": null,
            "object_position": null,
            "object_fit": null,
            "grid_auto_columns": null,
            "margin": null,
            "display": null,
            "left": null
          }
        },
        "056e7913dcd14f63b4d26632b33e8534": {
          "model_module": "@jupyter-widgets/controls",
          "model_name": "IntProgressModel",
          "state": {
            "_view_name": "ProgressView",
            "style": "IPY_MODEL_772fb91d60574e678d91655c6b0dd766",
            "_dom_classes": [],
            "description": "",
            "_model_name": "IntProgressModel",
            "bar_style": "success",
            "max": 1,
            "_view_module": "@jupyter-widgets/controls",
            "_model_module_version": "1.5.0",
            "value": 1,
            "_view_count": null,
            "_view_module_version": "1.5.0",
            "orientation": "horizontal",
            "min": 0,
            "description_tooltip": null,
            "_model_module": "@jupyter-widgets/controls",
            "layout": "IPY_MODEL_cf51fe686e36459f905b8d25d8c58cb1"
          }
        },
        "ed18f4d74721416a9283cdc9c69fb464": {
          "model_module": "@jupyter-widgets/controls",
          "model_name": "HTMLModel",
          "state": {
            "_view_name": "HTMLView",
            "style": "IPY_MODEL_9b1a380582944308bfb302b06e8235ae",
            "_dom_classes": [],
            "description": "",
            "_model_name": "HTMLModel",
            "placeholder": "​",
            "_view_module": "@jupyter-widgets/controls",
            "_model_module_version": "1.5.0",
            "value": "9920512it [00:01, 8936001.74it/s]",
            "_view_count": null,
            "_view_module_version": "1.5.0",
            "description_tooltip": null,
            "_model_module": "@jupyter-widgets/controls",
            "layout": "IPY_MODEL_bc177471c54444aeab95fa72ac26e2b3"
          }
        },
        "772fb91d60574e678d91655c6b0dd766": {
          "model_module": "@jupyter-widgets/controls",
          "model_name": "ProgressStyleModel",
          "state": {
            "_view_name": "StyleView",
            "_model_name": "ProgressStyleModel",
            "description_width": "",
            "_view_module": "@jupyter-widgets/base",
            "_model_module_version": "1.5.0",
            "_view_count": null,
            "_view_module_version": "1.2.0",
            "bar_color": null,
            "_model_module": "@jupyter-widgets/controls"
          }
        },
        "cf51fe686e36459f905b8d25d8c58cb1": {
          "model_module": "@jupyter-widgets/base",
          "model_name": "LayoutModel",
          "state": {
            "_view_name": "LayoutView",
            "grid_template_rows": null,
            "right": null,
            "justify_content": null,
            "_view_module": "@jupyter-widgets/base",
            "overflow": null,
            "_model_module_version": "1.2.0",
            "_view_count": null,
            "flex_flow": null,
            "width": null,
            "min_width": null,
            "border": null,
            "align_items": null,
            "bottom": null,
            "_model_module": "@jupyter-widgets/base",
            "top": null,
            "grid_column": null,
            "overflow_y": null,
            "overflow_x": null,
            "grid_auto_flow": null,
            "grid_area": null,
            "grid_template_columns": null,
            "flex": null,
            "_model_name": "LayoutModel",
            "justify_items": null,
            "grid_row": null,
            "max_height": null,
            "align_content": null,
            "visibility": null,
            "align_self": null,
            "height": null,
            "min_height": null,
            "padding": null,
            "grid_auto_rows": null,
            "grid_gap": null,
            "max_width": null,
            "order": null,
            "_view_module_version": "1.2.0",
            "grid_template_areas": null,
            "object_position": null,
            "object_fit": null,
            "grid_auto_columns": null,
            "margin": null,
            "display": null,
            "left": null
          }
        },
        "9b1a380582944308bfb302b06e8235ae": {
          "model_module": "@jupyter-widgets/controls",
          "model_name": "DescriptionStyleModel",
          "state": {
            "_view_name": "StyleView",
            "_model_name": "DescriptionStyleModel",
            "description_width": "",
            "_view_module": "@jupyter-widgets/base",
            "_model_module_version": "1.5.0",
            "_view_count": null,
            "_view_module_version": "1.2.0",
            "_model_module": "@jupyter-widgets/controls"
          }
        },
        "bc177471c54444aeab95fa72ac26e2b3": {
          "model_module": "@jupyter-widgets/base",
          "model_name": "LayoutModel",
          "state": {
            "_view_name": "LayoutView",
            "grid_template_rows": null,
            "right": null,
            "justify_content": null,
            "_view_module": "@jupyter-widgets/base",
            "overflow": null,
            "_model_module_version": "1.2.0",
            "_view_count": null,
            "flex_flow": null,
            "width": null,
            "min_width": null,
            "border": null,
            "align_items": null,
            "bottom": null,
            "_model_module": "@jupyter-widgets/base",
            "top": null,
            "grid_column": null,
            "overflow_y": null,
            "overflow_x": null,
            "grid_auto_flow": null,
            "grid_area": null,
            "grid_template_columns": null,
            "flex": null,
            "_model_name": "LayoutModel",
            "justify_items": null,
            "grid_row": null,
            "max_height": null,
            "align_content": null,
            "visibility": null,
            "align_self": null,
            "height": null,
            "min_height": null,
            "padding": null,
            "grid_auto_rows": null,
            "grid_gap": null,
            "max_width": null,
            "order": null,
            "_view_module_version": "1.2.0",
            "grid_template_areas": null,
            "object_position": null,
            "object_fit": null,
            "grid_auto_columns": null,
            "margin": null,
            "display": null,
            "left": null
          }
        },
        "464e1332b18e4e66b2877cfee39f3df2": {
          "model_module": "@jupyter-widgets/controls",
          "model_name": "HBoxModel",
          "state": {
            "_view_name": "HBoxView",
            "_dom_classes": [],
            "_model_name": "HBoxModel",
            "_view_module": "@jupyter-widgets/controls",
            "_model_module_version": "1.5.0",
            "_view_count": null,
            "_view_module_version": "1.5.0",
            "box_style": "",
            "layout": "IPY_MODEL_c72cc1bd3b6c490c850df82927124abe",
            "_model_module": "@jupyter-widgets/controls",
            "children": [
              "IPY_MODEL_6c00631f6a674c1784bee0a189850f19",
              "IPY_MODEL_8ff79dcdb9f8403cbddc67a938be145d"
            ]
          }
        },
        "c72cc1bd3b6c490c850df82927124abe": {
          "model_module": "@jupyter-widgets/base",
          "model_name": "LayoutModel",
          "state": {
            "_view_name": "LayoutView",
            "grid_template_rows": null,
            "right": null,
            "justify_content": null,
            "_view_module": "@jupyter-widgets/base",
            "overflow": null,
            "_model_module_version": "1.2.0",
            "_view_count": null,
            "flex_flow": null,
            "width": null,
            "min_width": null,
            "border": null,
            "align_items": null,
            "bottom": null,
            "_model_module": "@jupyter-widgets/base",
            "top": null,
            "grid_column": null,
            "overflow_y": null,
            "overflow_x": null,
            "grid_auto_flow": null,
            "grid_area": null,
            "grid_template_columns": null,
            "flex": null,
            "_model_name": "LayoutModel",
            "justify_items": null,
            "grid_row": null,
            "max_height": null,
            "align_content": null,
            "visibility": null,
            "align_self": null,
            "height": null,
            "min_height": null,
            "padding": null,
            "grid_auto_rows": null,
            "grid_gap": null,
            "max_width": null,
            "order": null,
            "_view_module_version": "1.2.0",
            "grid_template_areas": null,
            "object_position": null,
            "object_fit": null,
            "grid_auto_columns": null,
            "margin": null,
            "display": null,
            "left": null
          }
        },
        "6c00631f6a674c1784bee0a189850f19": {
          "model_module": "@jupyter-widgets/controls",
          "model_name": "IntProgressModel",
          "state": {
            "_view_name": "ProgressView",
            "style": "IPY_MODEL_806040545f3c465e9d4f5cccf93aadcc",
            "_dom_classes": [],
            "description": "",
            "_model_name": "IntProgressModel",
            "bar_style": "success",
            "max": 1,
            "_view_module": "@jupyter-widgets/controls",
            "_model_module_version": "1.5.0",
            "value": 1,
            "_view_count": null,
            "_view_module_version": "1.5.0",
            "orientation": "horizontal",
            "min": 0,
            "description_tooltip": null,
            "_model_module": "@jupyter-widgets/controls",
            "layout": "IPY_MODEL_fca20423066043fd8cf2575a61f33848"
          }
        },
        "8ff79dcdb9f8403cbddc67a938be145d": {
          "model_module": "@jupyter-widgets/controls",
          "model_name": "HTMLModel",
          "state": {
            "_view_name": "HTMLView",
            "style": "IPY_MODEL_1edaf2f9360e4858b29dadab5b200cec",
            "_dom_classes": [],
            "description": "",
            "_model_name": "HTMLModel",
            "placeholder": "​",
            "_view_module": "@jupyter-widgets/controls",
            "_model_module_version": "1.5.0",
            "value": "32768it [00:00, 123261.87it/s]",
            "_view_count": null,
            "_view_module_version": "1.5.0",
            "description_tooltip": null,
            "_model_module": "@jupyter-widgets/controls",
            "layout": "IPY_MODEL_7ed0a4c5464a4d4f99b6d7a9aaa852f1"
          }
        },
        "806040545f3c465e9d4f5cccf93aadcc": {
          "model_module": "@jupyter-widgets/controls",
          "model_name": "ProgressStyleModel",
          "state": {
            "_view_name": "StyleView",
            "_model_name": "ProgressStyleModel",
            "description_width": "",
            "_view_module": "@jupyter-widgets/base",
            "_model_module_version": "1.5.0",
            "_view_count": null,
            "_view_module_version": "1.2.0",
            "bar_color": null,
            "_model_module": "@jupyter-widgets/controls"
          }
        },
        "fca20423066043fd8cf2575a61f33848": {
          "model_module": "@jupyter-widgets/base",
          "model_name": "LayoutModel",
          "state": {
            "_view_name": "LayoutView",
            "grid_template_rows": null,
            "right": null,
            "justify_content": null,
            "_view_module": "@jupyter-widgets/base",
            "overflow": null,
            "_model_module_version": "1.2.0",
            "_view_count": null,
            "flex_flow": null,
            "width": null,
            "min_width": null,
            "border": null,
            "align_items": null,
            "bottom": null,
            "_model_module": "@jupyter-widgets/base",
            "top": null,
            "grid_column": null,
            "overflow_y": null,
            "overflow_x": null,
            "grid_auto_flow": null,
            "grid_area": null,
            "grid_template_columns": null,
            "flex": null,
            "_model_name": "LayoutModel",
            "justify_items": null,
            "grid_row": null,
            "max_height": null,
            "align_content": null,
            "visibility": null,
            "align_self": null,
            "height": null,
            "min_height": null,
            "padding": null,
            "grid_auto_rows": null,
            "grid_gap": null,
            "max_width": null,
            "order": null,
            "_view_module_version": "1.2.0",
            "grid_template_areas": null,
            "object_position": null,
            "object_fit": null,
            "grid_auto_columns": null,
            "margin": null,
            "display": null,
            "left": null
          }
        },
        "1edaf2f9360e4858b29dadab5b200cec": {
          "model_module": "@jupyter-widgets/controls",
          "model_name": "DescriptionStyleModel",
          "state": {
            "_view_name": "StyleView",
            "_model_name": "DescriptionStyleModel",
            "description_width": "",
            "_view_module": "@jupyter-widgets/base",
            "_model_module_version": "1.5.0",
            "_view_count": null,
            "_view_module_version": "1.2.0",
            "_model_module": "@jupyter-widgets/controls"
          }
        },
        "7ed0a4c5464a4d4f99b6d7a9aaa852f1": {
          "model_module": "@jupyter-widgets/base",
          "model_name": "LayoutModel",
          "state": {
            "_view_name": "LayoutView",
            "grid_template_rows": null,
            "right": null,
            "justify_content": null,
            "_view_module": "@jupyter-widgets/base",
            "overflow": null,
            "_model_module_version": "1.2.0",
            "_view_count": null,
            "flex_flow": null,
            "width": null,
            "min_width": null,
            "border": null,
            "align_items": null,
            "bottom": null,
            "_model_module": "@jupyter-widgets/base",
            "top": null,
            "grid_column": null,
            "overflow_y": null,
            "overflow_x": null,
            "grid_auto_flow": null,
            "grid_area": null,
            "grid_template_columns": null,
            "flex": null,
            "_model_name": "LayoutModel",
            "justify_items": null,
            "grid_row": null,
            "max_height": null,
            "align_content": null,
            "visibility": null,
            "align_self": null,
            "height": null,
            "min_height": null,
            "padding": null,
            "grid_auto_rows": null,
            "grid_gap": null,
            "max_width": null,
            "order": null,
            "_view_module_version": "1.2.0",
            "grid_template_areas": null,
            "object_position": null,
            "object_fit": null,
            "grid_auto_columns": null,
            "margin": null,
            "display": null,
            "left": null
          }
        },
        "1a686fe008074c3087768922381249f6": {
          "model_module": "@jupyter-widgets/controls",
          "model_name": "HBoxModel",
          "state": {
            "_view_name": "HBoxView",
            "_dom_classes": [],
            "_model_name": "HBoxModel",
            "_view_module": "@jupyter-widgets/controls",
            "_model_module_version": "1.5.0",
            "_view_count": null,
            "_view_module_version": "1.5.0",
            "box_style": "",
            "layout": "IPY_MODEL_7cb4ce57cdf647a3a53059bc06ebc827",
            "_model_module": "@jupyter-widgets/controls",
            "children": [
              "IPY_MODEL_0be439d40b6749de87c7690ea2123e85",
              "IPY_MODEL_2e1840a4b51e41bbb693868c3827302f"
            ]
          }
        },
        "7cb4ce57cdf647a3a53059bc06ebc827": {
          "model_module": "@jupyter-widgets/base",
          "model_name": "LayoutModel",
          "state": {
            "_view_name": "LayoutView",
            "grid_template_rows": null,
            "right": null,
            "justify_content": null,
            "_view_module": "@jupyter-widgets/base",
            "overflow": null,
            "_model_module_version": "1.2.0",
            "_view_count": null,
            "flex_flow": null,
            "width": null,
            "min_width": null,
            "border": null,
            "align_items": null,
            "bottom": null,
            "_model_module": "@jupyter-widgets/base",
            "top": null,
            "grid_column": null,
            "overflow_y": null,
            "overflow_x": null,
            "grid_auto_flow": null,
            "grid_area": null,
            "grid_template_columns": null,
            "flex": null,
            "_model_name": "LayoutModel",
            "justify_items": null,
            "grid_row": null,
            "max_height": null,
            "align_content": null,
            "visibility": null,
            "align_self": null,
            "height": null,
            "min_height": null,
            "padding": null,
            "grid_auto_rows": null,
            "grid_gap": null,
            "max_width": null,
            "order": null,
            "_view_module_version": "1.2.0",
            "grid_template_areas": null,
            "object_position": null,
            "object_fit": null,
            "grid_auto_columns": null,
            "margin": null,
            "display": null,
            "left": null
          }
        },
        "0be439d40b6749de87c7690ea2123e85": {
          "model_module": "@jupyter-widgets/controls",
          "model_name": "IntProgressModel",
          "state": {
            "_view_name": "ProgressView",
            "style": "IPY_MODEL_c7563eb7d89540b4b4796bed7d7cfd15",
            "_dom_classes": [],
            "description": "",
            "_model_name": "IntProgressModel",
            "bar_style": "success",
            "max": 1,
            "_view_module": "@jupyter-widgets/controls",
            "_model_module_version": "1.5.0",
            "value": 1,
            "_view_count": null,
            "_view_module_version": "1.5.0",
            "orientation": "horizontal",
            "min": 0,
            "description_tooltip": null,
            "_model_module": "@jupyter-widgets/controls",
            "layout": "IPY_MODEL_ec829b0a16e14770ac61c0667384352e"
          }
        },
        "2e1840a4b51e41bbb693868c3827302f": {
          "model_module": "@jupyter-widgets/controls",
          "model_name": "HTMLModel",
          "state": {
            "_view_name": "HTMLView",
            "style": "IPY_MODEL_e9b687b38e6241748a336d97d3f64e22",
            "_dom_classes": [],
            "description": "",
            "_model_name": "HTMLModel",
            "placeholder": "​",
            "_view_module": "@jupyter-widgets/controls",
            "_model_module_version": "1.5.0",
            "value": "1654784it [00:00, 2207797.08it/s]",
            "_view_count": null,
            "_view_module_version": "1.5.0",
            "description_tooltip": null,
            "_model_module": "@jupyter-widgets/controls",
            "layout": "IPY_MODEL_81b528f0e1364413b14afd635ad11e5f"
          }
        },
        "c7563eb7d89540b4b4796bed7d7cfd15": {
          "model_module": "@jupyter-widgets/controls",
          "model_name": "ProgressStyleModel",
          "state": {
            "_view_name": "StyleView",
            "_model_name": "ProgressStyleModel",
            "description_width": "",
            "_view_module": "@jupyter-widgets/base",
            "_model_module_version": "1.5.0",
            "_view_count": null,
            "_view_module_version": "1.2.0",
            "bar_color": null,
            "_model_module": "@jupyter-widgets/controls"
          }
        },
        "ec829b0a16e14770ac61c0667384352e": {
          "model_module": "@jupyter-widgets/base",
          "model_name": "LayoutModel",
          "state": {
            "_view_name": "LayoutView",
            "grid_template_rows": null,
            "right": null,
            "justify_content": null,
            "_view_module": "@jupyter-widgets/base",
            "overflow": null,
            "_model_module_version": "1.2.0",
            "_view_count": null,
            "flex_flow": null,
            "width": null,
            "min_width": null,
            "border": null,
            "align_items": null,
            "bottom": null,
            "_model_module": "@jupyter-widgets/base",
            "top": null,
            "grid_column": null,
            "overflow_y": null,
            "overflow_x": null,
            "grid_auto_flow": null,
            "grid_area": null,
            "grid_template_columns": null,
            "flex": null,
            "_model_name": "LayoutModel",
            "justify_items": null,
            "grid_row": null,
            "max_height": null,
            "align_content": null,
            "visibility": null,
            "align_self": null,
            "height": null,
            "min_height": null,
            "padding": null,
            "grid_auto_rows": null,
            "grid_gap": null,
            "max_width": null,
            "order": null,
            "_view_module_version": "1.2.0",
            "grid_template_areas": null,
            "object_position": null,
            "object_fit": null,
            "grid_auto_columns": null,
            "margin": null,
            "display": null,
            "left": null
          }
        },
        "e9b687b38e6241748a336d97d3f64e22": {
          "model_module": "@jupyter-widgets/controls",
          "model_name": "DescriptionStyleModel",
          "state": {
            "_view_name": "StyleView",
            "_model_name": "DescriptionStyleModel",
            "description_width": "",
            "_view_module": "@jupyter-widgets/base",
            "_model_module_version": "1.5.0",
            "_view_count": null,
            "_view_module_version": "1.2.0",
            "_model_module": "@jupyter-widgets/controls"
          }
        },
        "81b528f0e1364413b14afd635ad11e5f": {
          "model_module": "@jupyter-widgets/base",
          "model_name": "LayoutModel",
          "state": {
            "_view_name": "LayoutView",
            "grid_template_rows": null,
            "right": null,
            "justify_content": null,
            "_view_module": "@jupyter-widgets/base",
            "overflow": null,
            "_model_module_version": "1.2.0",
            "_view_count": null,
            "flex_flow": null,
            "width": null,
            "min_width": null,
            "border": null,
            "align_items": null,
            "bottom": null,
            "_model_module": "@jupyter-widgets/base",
            "top": null,
            "grid_column": null,
            "overflow_y": null,
            "overflow_x": null,
            "grid_auto_flow": null,
            "grid_area": null,
            "grid_template_columns": null,
            "flex": null,
            "_model_name": "LayoutModel",
            "justify_items": null,
            "grid_row": null,
            "max_height": null,
            "align_content": null,
            "visibility": null,
            "align_self": null,
            "height": null,
            "min_height": null,
            "padding": null,
            "grid_auto_rows": null,
            "grid_gap": null,
            "max_width": null,
            "order": null,
            "_view_module_version": "1.2.0",
            "grid_template_areas": null,
            "object_position": null,
            "object_fit": null,
            "grid_auto_columns": null,
            "margin": null,
            "display": null,
            "left": null
          }
        },
        "951ea16f37904b95b55c9f53ed128a15": {
          "model_module": "@jupyter-widgets/controls",
          "model_name": "HBoxModel",
          "state": {
            "_view_name": "HBoxView",
            "_dom_classes": [],
            "_model_name": "HBoxModel",
            "_view_module": "@jupyter-widgets/controls",
            "_model_module_version": "1.5.0",
            "_view_count": null,
            "_view_module_version": "1.5.0",
            "box_style": "",
            "layout": "IPY_MODEL_eefabc800c3144c68188af1160ce9d87",
            "_model_module": "@jupyter-widgets/controls",
            "children": [
              "IPY_MODEL_d564c1361b3b409492dd9be454ff7833",
              "IPY_MODEL_36240bb7f0e44450a0b18216477f8d28"
            ]
          }
        },
        "eefabc800c3144c68188af1160ce9d87": {
          "model_module": "@jupyter-widgets/base",
          "model_name": "LayoutModel",
          "state": {
            "_view_name": "LayoutView",
            "grid_template_rows": null,
            "right": null,
            "justify_content": null,
            "_view_module": "@jupyter-widgets/base",
            "overflow": null,
            "_model_module_version": "1.2.0",
            "_view_count": null,
            "flex_flow": null,
            "width": null,
            "min_width": null,
            "border": null,
            "align_items": null,
            "bottom": null,
            "_model_module": "@jupyter-widgets/base",
            "top": null,
            "grid_column": null,
            "overflow_y": null,
            "overflow_x": null,
            "grid_auto_flow": null,
            "grid_area": null,
            "grid_template_columns": null,
            "flex": null,
            "_model_name": "LayoutModel",
            "justify_items": null,
            "grid_row": null,
            "max_height": null,
            "align_content": null,
            "visibility": null,
            "align_self": null,
            "height": null,
            "min_height": null,
            "padding": null,
            "grid_auto_rows": null,
            "grid_gap": null,
            "max_width": null,
            "order": null,
            "_view_module_version": "1.2.0",
            "grid_template_areas": null,
            "object_position": null,
            "object_fit": null,
            "grid_auto_columns": null,
            "margin": null,
            "display": null,
            "left": null
          }
        },
        "d564c1361b3b409492dd9be454ff7833": {
          "model_module": "@jupyter-widgets/controls",
          "model_name": "IntProgressModel",
          "state": {
            "_view_name": "ProgressView",
            "style": "IPY_MODEL_a9fd256ec5c041eeb86a99199c1553d0",
            "_dom_classes": [],
            "description": "",
            "_model_name": "IntProgressModel",
            "bar_style": "success",
            "max": 1,
            "_view_module": "@jupyter-widgets/controls",
            "_model_module_version": "1.5.0",
            "value": 1,
            "_view_count": null,
            "_view_module_version": "1.5.0",
            "orientation": "horizontal",
            "min": 0,
            "description_tooltip": null,
            "_model_module": "@jupyter-widgets/controls",
            "layout": "IPY_MODEL_65f6d39d03e343d391dcb37bd4ce2f2d"
          }
        },
        "36240bb7f0e44450a0b18216477f8d28": {
          "model_module": "@jupyter-widgets/controls",
          "model_name": "HTMLModel",
          "state": {
            "_view_name": "HTMLView",
            "style": "IPY_MODEL_12a23c9147bf4e89aaaf6cf2e7432ec1",
            "_dom_classes": [],
            "description": "",
            "_model_name": "HTMLModel",
            "placeholder": "​",
            "_view_module": "@jupyter-widgets/controls",
            "_model_module_version": "1.5.0",
            "value": "8192it [00:00, 47062.85it/s]",
            "_view_count": null,
            "_view_module_version": "1.5.0",
            "description_tooltip": null,
            "_model_module": "@jupyter-widgets/controls",
            "layout": "IPY_MODEL_c516764e83c144dd8c2bffce4b6f4b79"
          }
        },
        "a9fd256ec5c041eeb86a99199c1553d0": {
          "model_module": "@jupyter-widgets/controls",
          "model_name": "ProgressStyleModel",
          "state": {
            "_view_name": "StyleView",
            "_model_name": "ProgressStyleModel",
            "description_width": "",
            "_view_module": "@jupyter-widgets/base",
            "_model_module_version": "1.5.0",
            "_view_count": null,
            "_view_module_version": "1.2.0",
            "bar_color": null,
            "_model_module": "@jupyter-widgets/controls"
          }
        },
        "65f6d39d03e343d391dcb37bd4ce2f2d": {
          "model_module": "@jupyter-widgets/base",
          "model_name": "LayoutModel",
          "state": {
            "_view_name": "LayoutView",
            "grid_template_rows": null,
            "right": null,
            "justify_content": null,
            "_view_module": "@jupyter-widgets/base",
            "overflow": null,
            "_model_module_version": "1.2.0",
            "_view_count": null,
            "flex_flow": null,
            "width": null,
            "min_width": null,
            "border": null,
            "align_items": null,
            "bottom": null,
            "_model_module": "@jupyter-widgets/base",
            "top": null,
            "grid_column": null,
            "overflow_y": null,
            "overflow_x": null,
            "grid_auto_flow": null,
            "grid_area": null,
            "grid_template_columns": null,
            "flex": null,
            "_model_name": "LayoutModel",
            "justify_items": null,
            "grid_row": null,
            "max_height": null,
            "align_content": null,
            "visibility": null,
            "align_self": null,
            "height": null,
            "min_height": null,
            "padding": null,
            "grid_auto_rows": null,
            "grid_gap": null,
            "max_width": null,
            "order": null,
            "_view_module_version": "1.2.0",
            "grid_template_areas": null,
            "object_position": null,
            "object_fit": null,
            "grid_auto_columns": null,
            "margin": null,
            "display": null,
            "left": null
          }
        },
        "12a23c9147bf4e89aaaf6cf2e7432ec1": {
          "model_module": "@jupyter-widgets/controls",
          "model_name": "DescriptionStyleModel",
          "state": {
            "_view_name": "StyleView",
            "_model_name": "DescriptionStyleModel",
            "description_width": "",
            "_view_module": "@jupyter-widgets/base",
            "_model_module_version": "1.5.0",
            "_view_count": null,
            "_view_module_version": "1.2.0",
            "_model_module": "@jupyter-widgets/controls"
          }
        },
        "c516764e83c144dd8c2bffce4b6f4b79": {
          "model_module": "@jupyter-widgets/base",
          "model_name": "LayoutModel",
          "state": {
            "_view_name": "LayoutView",
            "grid_template_rows": null,
            "right": null,
            "justify_content": null,
            "_view_module": "@jupyter-widgets/base",
            "overflow": null,
            "_model_module_version": "1.2.0",
            "_view_count": null,
            "flex_flow": null,
            "width": null,
            "min_width": null,
            "border": null,
            "align_items": null,
            "bottom": null,
            "_model_module": "@jupyter-widgets/base",
            "top": null,
            "grid_column": null,
            "overflow_y": null,
            "overflow_x": null,
            "grid_auto_flow": null,
            "grid_area": null,
            "grid_template_columns": null,
            "flex": null,
            "_model_name": "LayoutModel",
            "justify_items": null,
            "grid_row": null,
            "max_height": null,
            "align_content": null,
            "visibility": null,
            "align_self": null,
            "height": null,
            "min_height": null,
            "padding": null,
            "grid_auto_rows": null,
            "grid_gap": null,
            "max_width": null,
            "order": null,
            "_view_module_version": "1.2.0",
            "grid_template_areas": null,
            "object_position": null,
            "object_fit": null,
            "grid_auto_columns": null,
            "margin": null,
            "display": null,
            "left": null
          }
        }
      }
    }
  },
  "cells": [
    {
      "cell_type": "markdown",
      "metadata": {
        "id": "view-in-github",
        "colab_type": "text"
      },
      "source": [
        "<a href=\"https://colab.research.google.com/github/Amaljayaranga/ContrastiveLoss/blob/master/ConLoss.ipynb\" target=\"_parent\"><img src=\"https://colab.research.google.com/assets/colab-badge.svg\" alt=\"Open In Colab\"/></a>"
      ]
    },
    {
      "cell_type": "code",
      "metadata": {
        "id": "ge3KIKATOcbR",
        "colab_type": "code",
        "colab": {
          "base_uri": "https://localhost:8080/",
          "height": 1000,
          "referenced_widgets": [
            "d8cfcdb65fc64930bfd4b6377e54ab49",
            "971116734e46496fb1b1f1236f14f657",
            "056e7913dcd14f63b4d26632b33e8534",
            "ed18f4d74721416a9283cdc9c69fb464",
            "772fb91d60574e678d91655c6b0dd766",
            "cf51fe686e36459f905b8d25d8c58cb1",
            "9b1a380582944308bfb302b06e8235ae",
            "bc177471c54444aeab95fa72ac26e2b3",
            "464e1332b18e4e66b2877cfee39f3df2",
            "c72cc1bd3b6c490c850df82927124abe",
            "6c00631f6a674c1784bee0a189850f19",
            "8ff79dcdb9f8403cbddc67a938be145d",
            "806040545f3c465e9d4f5cccf93aadcc",
            "fca20423066043fd8cf2575a61f33848",
            "1edaf2f9360e4858b29dadab5b200cec",
            "7ed0a4c5464a4d4f99b6d7a9aaa852f1",
            "1a686fe008074c3087768922381249f6",
            "7cb4ce57cdf647a3a53059bc06ebc827",
            "0be439d40b6749de87c7690ea2123e85",
            "2e1840a4b51e41bbb693868c3827302f",
            "c7563eb7d89540b4b4796bed7d7cfd15",
            "ec829b0a16e14770ac61c0667384352e",
            "e9b687b38e6241748a336d97d3f64e22",
            "81b528f0e1364413b14afd635ad11e5f",
            "951ea16f37904b95b55c9f53ed128a15",
            "eefabc800c3144c68188af1160ce9d87",
            "d564c1361b3b409492dd9be454ff7833",
            "36240bb7f0e44450a0b18216477f8d28",
            "a9fd256ec5c041eeb86a99199c1553d0",
            "65f6d39d03e343d391dcb37bd4ce2f2d",
            "12a23c9147bf4e89aaaf6cf2e7432ec1",
            "c516764e83c144dd8c2bffce4b6f4b79"
          ]
        },
        "outputId": "434ec5d7-b7f2-46cc-92d5-0283174d3040"
      },
      "source": [
        "import torch\n",
        "from torchvision.datasets import MNIST\n",
        "from torchvision import transforms\n",
        "from torch.utils.data import Dataset\n",
        "import matplotlib.pyplot as plt\n",
        "import torch.optim as optim\n",
        "\n",
        "from Loss import ContrastiveLoss\n",
        "from SimaseDataset import SiameseMNIST\n",
        "from SimaseNetwork import SimaseNet\n",
        "\n",
        "\n",
        "train_dataset = MNIST('../data/MNIST', train=True, download=True,\n",
        "                             transform=transforms.Compose([\n",
        "                                 transforms.ToTensor()\n",
        "                             ]))\n",
        "\n",
        "test_dataset = MNIST('../data/MNIST', train=False, download=True,\n",
        "                            transform=transforms.Compose([\n",
        "                                transforms.ToTensor()\n",
        "                            ]))\n",
        "\n",
        "def splot(img1,img2):\n",
        "    f, axarr = plt.subplots(1, 2)\n",
        "    axarr[0].imshow(transforms.ToPILImage()(img1))\n",
        "    axarr[1].imshow(transforms.ToPILImage()(img2))\n",
        "    plt.show()\n",
        "\n",
        "def show_plot(iteration,loss):\n",
        "    plt.plot(iteration,loss)\n",
        "    plt.show()\n",
        "\n",
        "\n",
        "siamese_train_dataset = SiameseMNIST(train_dataset)\n",
        "siamese_train_loader = torch.utils.data.DataLoader(siamese_train_dataset, batch_size = 64, shuffle=True)\n",
        "\n",
        "simase_test_dataset = SiameseMNIST(test_dataset)\n",
        "siamese_test_loader = torch.utils.data.DataLoader(simase_test_dataset, batch_size = 1, shuffle=True)\n",
        "\n",
        "model = SimaseNet()\n",
        "criterion = ContrastiveLoss(1)\n",
        "optimizer = optim.Adam(model.parameters(), 1e-2)\n",
        "\n",
        "train = True\n",
        "\n",
        "if train:\n",
        "    # training\n",
        "    model.train()\n",
        "    losses = []\n",
        "    total_loss = 0\n",
        "    epochs = 10\n",
        "    iteration = 0\n",
        "    counter = []\n",
        "    chunk = 100\n",
        "\n",
        "\n",
        "\n",
        "    for epoch in range(epochs):\n",
        "\n",
        "        for batch_idx, data in enumerate(siamese_train_loader):\n",
        "\n",
        "            img1, img2, target = data\n",
        "\n",
        "            optimizer.zero_grad()\n",
        "            out1, out2 = model(img1, img2)\n",
        "            loss = criterion(out1, out2, target)\n",
        "            loss.backward()\n",
        "            optimizer.step()\n",
        "\n",
        "\n",
        "            if batch_idx % chunk == 0:\n",
        "                print(\"Epoch : \", epoch, \"Batch : \" , batch_idx, \"loss : \", loss.item())\n",
        "                iteration += chunk\n",
        "                counter.append(iteration)\n",
        "                losses.append(loss.item())\n",
        "                total_loss += loss.item()\n",
        "\n",
        "        show_plot(counter,losses)\n",
        "        print(\"Epoch\", epoch, \"loss \", total_loss /len(data))\n",
        "        total_loss = 0.0\n",
        "\n",
        "    torch.save(model, 'simase.pth')\n",
        "\n",
        "\n",
        "if not train:\n",
        "\n",
        "    model = torch.load('simase.pth')\n",
        "    model.eval()\n",
        "\n",
        "    for batch_idx, data in enumerate(siamese_test_loader):\n",
        "        img1, img2, target = data\n",
        "        out1, out2 = model(img1, img2)\n",
        "        loss = criterion(out1, out2, target)\n",
        "        print(loss)\n",
        "        splot(img1[0],img2[0])\n",
        "\n",
        "\n",
        "\n",
        "\n",
        "\n",
        "\n",
        "\n",
        "\n",
        "\n",
        "\n",
        "\n",
        "\n",
        "\n"
      ],
      "execution_count": 1,
      "outputs": [
        {
          "output_type": "stream",
          "text": [
            "Downloading http://yann.lecun.com/exdb/mnist/train-images-idx3-ubyte.gz to ../data/MNIST/MNIST/raw/train-images-idx3-ubyte.gz\n"
          ],
          "name": "stdout"
        },
        {
          "output_type": "display_data",
          "data": {
            "application/vnd.jupyter.widget-view+json": {
              "model_id": "d8cfcdb65fc64930bfd4b6377e54ab49",
              "version_minor": 0,
              "version_major": 2
            },
            "text/plain": [
              "HBox(children=(IntProgress(value=1, bar_style='info', max=1), HTML(value='')))"
            ]
          },
          "metadata": {
            "tags": []
          }
        },
        {
          "output_type": "stream",
          "text": [
            "\n",
            "Extracting ../data/MNIST/MNIST/raw/train-images-idx3-ubyte.gz to ../data/MNIST/MNIST/raw\n",
            "Downloading http://yann.lecun.com/exdb/mnist/train-labels-idx1-ubyte.gz to ../data/MNIST/MNIST/raw/train-labels-idx1-ubyte.gz\n"
          ],
          "name": "stdout"
        },
        {
          "output_type": "display_data",
          "data": {
            "application/vnd.jupyter.widget-view+json": {
              "model_id": "464e1332b18e4e66b2877cfee39f3df2",
              "version_minor": 0,
              "version_major": 2
            },
            "text/plain": [
              "HBox(children=(IntProgress(value=1, bar_style='info', max=1), HTML(value='')))"
            ]
          },
          "metadata": {
            "tags": []
          }
        },
        {
          "output_type": "stream",
          "text": [
            "\n",
            "Extracting ../data/MNIST/MNIST/raw/train-labels-idx1-ubyte.gz to ../data/MNIST/MNIST/raw\n",
            "Downloading http://yann.lecun.com/exdb/mnist/t10k-images-idx3-ubyte.gz to ../data/MNIST/MNIST/raw/t10k-images-idx3-ubyte.gz\n"
          ],
          "name": "stdout"
        },
        {
          "output_type": "display_data",
          "data": {
            "application/vnd.jupyter.widget-view+json": {
              "model_id": "1a686fe008074c3087768922381249f6",
              "version_minor": 0,
              "version_major": 2
            },
            "text/plain": [
              "HBox(children=(IntProgress(value=1, bar_style='info', max=1), HTML(value='')))"
            ]
          },
          "metadata": {
            "tags": []
          }
        },
        {
          "output_type": "stream",
          "text": [
            "\n",
            "Extracting ../data/MNIST/MNIST/raw/t10k-images-idx3-ubyte.gz to ../data/MNIST/MNIST/raw\n",
            "Downloading http://yann.lecun.com/exdb/mnist/t10k-labels-idx1-ubyte.gz to ../data/MNIST/MNIST/raw/t10k-labels-idx1-ubyte.gz\n"
          ],
          "name": "stdout"
        },
        {
          "output_type": "display_data",
          "data": {
            "application/vnd.jupyter.widget-view+json": {
              "model_id": "951ea16f37904b95b55c9f53ed128a15",
              "version_minor": 0,
              "version_major": 2
            },
            "text/plain": [
              "HBox(children=(IntProgress(value=1, bar_style='info', max=1), HTML(value='')))"
            ]
          },
          "metadata": {
            "tags": []
          }
        },
        {
          "output_type": "stream",
          "text": [
            "\n",
            "Extracting ../data/MNIST/MNIST/raw/t10k-labels-idx1-ubyte.gz to ../data/MNIST/MNIST/raw\n",
            "Processing...\n",
            "Done!\n"
          ],
          "name": "stdout"
        },
        {
          "output_type": "stream",
          "text": [
            "/usr/local/lib/python3.6/dist-packages/torchvision/datasets/mnist.py:45: UserWarning: train_labels has been renamed targets\n",
            "  warnings.warn(\"train_labels has been renamed targets\")\n",
            "/usr/local/lib/python3.6/dist-packages/torchvision/datasets/mnist.py:55: UserWarning: train_data has been renamed data\n",
            "  warnings.warn(\"train_data has been renamed data\")\n",
            "/usr/local/lib/python3.6/dist-packages/torchvision/datasets/mnist.py:50: UserWarning: test_labels has been renamed targets\n",
            "  warnings.warn(\"test_labels has been renamed targets\")\n",
            "/usr/local/lib/python3.6/dist-packages/torchvision/datasets/mnist.py:60: UserWarning: test_data has been renamed data\n",
            "  warnings.warn(\"test_data has been renamed data\")\n"
          ],
          "name": "stderr"
        },
        {
          "output_type": "stream",
          "text": [
            "Epoch :  0 Batch :  0 loss :  0.2534423768520355\n",
            "Epoch :  0 Batch :  100 loss :  0.16067276895046234\n",
            "Epoch :  0 Batch :  200 loss :  0.14167866110801697\n",
            "Epoch :  0 Batch :  300 loss :  0.1667649894952774\n",
            "Epoch :  0 Batch :  400 loss :  0.1704954355955124\n",
            "Epoch :  0 Batch :  500 loss :  0.18185049295425415\n",
            "Epoch :  0 Batch :  600 loss :  0.14647096395492554\n",
            "Epoch :  0 Batch :  700 loss :  0.15398149192333221\n",
            "Epoch :  0 Batch :  800 loss :  0.15095606446266174\n",
            "Epoch :  0 Batch :  900 loss :  0.13752113282680511\n"
          ],
          "name": "stdout"
        },
        {
          "output_type": "display_data",
          "data": {
            "image/png": "[encoded data removed]",
            "text/plain": [
              "<Figure size 432x288 with 1 Axes>"
            ]
          },
          "metadata": {
            "tags": []
          }
        },
        {
          "output_type": "stream",
          "text": [
            "Epoch 0 loss  0.5546114593744278\n",
            "Epoch :  1 Batch :  0 loss :  0.1600366085767746\n",
            "Epoch :  1 Batch :  100 loss :  0.18460293114185333\n",
            "Epoch :  1 Batch :  200 loss :  0.13783375918865204\n",
            "Epoch :  1 Batch :  300 loss :  0.1672157645225525\n",
            "Epoch :  1 Batch :  400 loss :  0.14771804213523865\n",
            "Epoch :  1 Batch :  500 loss :  0.15597662329673767\n",
            "Epoch :  1 Batch :  600 loss :  0.17368945479393005\n",
            "Epoch :  1 Batch :  700 loss :  0.15635502338409424\n",
            "Epoch :  1 Batch :  800 loss :  0.15040315687656403\n",
            "Epoch :  1 Batch :  900 loss :  0.1239047572016716\n"
          ],
          "name": "stdout"
        },
        {
          "output_type": "display_data",
          "data": {
            "image/png": "[encoded data removed]",
            "text/plain": [
              "<Figure size 432x288 with 1 Axes>"
            ]
          },
          "metadata": {
            "tags": []
          }
        },
        {
          "output_type": "stream",
          "text": [
            "Epoch 1 loss  0.5192453737060229\n",
            "Epoch :  2 Batch :  0 loss :  0.13373073935508728\n",
            "Epoch :  2 Batch :  100 loss :  0.12478718161582947\n",
            "Epoch :  2 Batch :  200 loss :  0.17208212614059448\n",
            "Epoch :  2 Batch :  300 loss :  0.15153123438358307\n",
            "Epoch :  2 Batch :  400 loss :  0.15398067235946655\n",
            "Epoch :  2 Batch :  500 loss :  0.19845587015151978\n",
            "Epoch :  2 Batch :  600 loss :  0.14661625027656555\n",
            "Epoch :  2 Batch :  700 loss :  0.15970951318740845\n",
            "Epoch :  2 Batch :  800 loss :  0.1752273142337799\n",
            "Epoch :  2 Batch :  900 loss :  0.13431182503700256\n"
          ],
          "name": "stdout"
        },
        {
          "output_type": "display_data",
          "data": {
            "image/png": "[encoded data removed]",
            "text/plain": [
              "<Figure size 432x288 with 1 Axes>"
            ]
          },
          "metadata": {
            "tags": []
          }
        },
        {
          "output_type": "stream",
          "text": [
            "Epoch 2 loss  0.5168109089136124\n",
            "Epoch :  3 Batch :  0 loss :  0.15691834688186646\n",
            "Epoch :  3 Batch :  100 loss :  0.13973921537399292\n",
            "Epoch :  3 Batch :  200 loss :  0.16644400358200073\n",
            "Epoch :  3 Batch :  300 loss :  0.15463191270828247\n",
            "Epoch :  3 Batch :  400 loss :  0.17985138297080994\n",
            "Epoch :  3 Batch :  500 loss :  0.17146259546279907\n",
            "Epoch :  3 Batch :  600 loss :  0.16828806698322296\n",
            "Epoch :  3 Batch :  700 loss :  0.1501425951719284\n",
            "Epoch :  3 Batch :  800 loss :  0.15410888195037842\n",
            "Epoch :  3 Batch :  900 loss :  0.18076321482658386\n"
          ],
          "name": "stdout"
        },
        {
          "output_type": "display_data",
          "data": {
            "image/png": "[encoded data removed]",
            "text/plain": [
              "<Figure size 432x288 with 1 Axes>"
            ]
          },
          "metadata": {
            "tags": []
          }
        },
        {
          "output_type": "stream",
          "text": [
            "Epoch 3 loss  0.5407834053039551\n",
            "Epoch :  4 Batch :  0 loss :  0.1578056812286377\n",
            "Epoch :  4 Batch :  100 loss :  0.160562202334404\n",
            "Epoch :  4 Batch :  200 loss :  0.1561039388179779\n",
            "Epoch :  4 Batch :  300 loss :  0.15901674330234528\n",
            "Epoch :  4 Batch :  400 loss :  0.15888990461826324\n",
            "Epoch :  4 Batch :  500 loss :  0.14871874451637268\n",
            "Epoch :  4 Batch :  600 loss :  0.1448800414800644\n",
            "Epoch :  4 Batch :  700 loss :  0.1399500072002411\n",
            "Epoch :  4 Batch :  800 loss :  0.14180557429790497\n",
            "Epoch :  4 Batch :  900 loss :  0.12217049300670624\n"
          ],
          "name": "stdout"
        },
        {
          "output_type": "display_data",
          "data": {
            "image/png": "[encoded data removed]",
            "text/plain": [
              "<Figure size 432x288 with 1 Axes>"
            ]
          },
          "metadata": {
            "tags": []
          }
        },
        {
          "output_type": "stream",
          "text": [
            "Epoch 4 loss  0.4966344436009725\n",
            "Epoch :  5 Batch :  0 loss :  0.1595963090658188\n",
            "Epoch :  5 Batch :  100 loss :  0.1226101964712143\n",
            "Epoch :  5 Batch :  200 loss :  0.1609411984682083\n",
            "Epoch :  5 Batch :  300 loss :  0.14018094539642334\n",
            "Epoch :  5 Batch :  400 loss :  0.1735226958990097\n",
            "Epoch :  5 Batch :  500 loss :  0.15829506516456604\n",
            "Epoch :  5 Batch :  600 loss :  0.16177743673324585\n",
            "Epoch :  5 Batch :  700 loss :  0.16120712459087372\n",
            "Epoch :  5 Batch :  800 loss :  0.17274321615695953\n",
            "Epoch :  5 Batch :  900 loss :  0.14986062049865723\n"
          ],
          "name": "stdout"
        },
        {
          "output_type": "display_data",
          "data": {
            "image/png": "[encoded data removed]",
            "text/plain": [
              "<Figure size 432x288 with 1 Axes>"
            ]
          },
          "metadata": {
            "tags": []
          }
        },
        {
          "output_type": "stream",
          "text": [
            "Epoch 5 loss  0.5202449361483256\n",
            "Epoch :  6 Batch :  0 loss :  0.16339606046676636\n",
            "Epoch :  6 Batch :  100 loss :  0.15388646721839905\n",
            "Epoch :  6 Batch :  200 loss :  0.16189152002334595\n",
            "Epoch :  6 Batch :  300 loss :  0.14036905765533447\n",
            "Epoch :  6 Batch :  400 loss :  0.14789313077926636\n",
            "Epoch :  6 Batch :  500 loss :  0.1387808471918106\n",
            "Epoch :  6 Batch :  600 loss :  0.152467742562294\n",
            "Epoch :  6 Batch :  700 loss :  0.1473480761051178\n",
            "Epoch :  6 Batch :  800 loss :  0.15573857724666595\n",
            "Epoch :  6 Batch :  900 loss :  0.1422298103570938\n"
          ],
          "name": "stdout"
        },
        {
          "output_type": "display_data",
          "data": {
            "image/png": "[encoded data removed]",
            "text/plain": [
              "<Figure size 432x288 with 1 Axes>"
            ]
          },
          "metadata": {
            "tags": []
          }
        },
        {
          "output_type": "stream",
          "text": [
            "Epoch 6 loss  0.5013337632020315\n",
            "Epoch :  7 Batch :  0 loss :  0.16163811087608337\n",
            "Epoch :  7 Batch :  100 loss :  0.13731299340724945\n",
            "Epoch :  7 Batch :  200 loss :  0.1634812355041504\n",
            "Epoch :  7 Batch :  300 loss :  0.14044944941997528\n",
            "Epoch :  7 Batch :  400 loss :  0.1641276329755783\n",
            "Epoch :  7 Batch :  500 loss :  0.15472497045993805\n",
            "Epoch :  7 Batch :  600 loss :  0.15651573240756989\n",
            "Epoch :  7 Batch :  700 loss :  0.1714950054883957\n",
            "Epoch :  7 Batch :  800 loss :  0.1561177521944046\n",
            "Epoch :  7 Batch :  900 loss :  0.16078528761863708\n"
          ],
          "name": "stdout"
        },
        {
          "output_type": "display_data",
          "data": {
            "image/png": "[encoded data removed]",
            "text/plain": [
              "<Figure size 432x288 with 1 Axes>"
            ]
          },
          "metadata": {
            "tags": []
          }
        },
        {
          "output_type": "stream",
          "text": [
            "Epoch 7 loss  0.5222160567839941\n",
            "Epoch :  8 Batch :  0 loss :  0.15897609293460846\n",
            "Epoch :  8 Batch :  100 loss :  0.1467677503824234\n",
            "Epoch :  8 Batch :  200 loss :  0.1370294839143753\n",
            "Epoch :  8 Batch :  300 loss :  0.15052777528762817\n",
            "Epoch :  8 Batch :  400 loss :  0.19544591009616852\n",
            "Epoch :  8 Batch :  500 loss :  0.16393610835075378\n",
            "Epoch :  8 Batch :  600 loss :  0.12686888873577118\n",
            "Epoch :  8 Batch :  700 loss :  0.1563866138458252\n",
            "Epoch :  8 Batch :  800 loss :  0.15161572396755219\n",
            "Epoch :  8 Batch :  900 loss :  0.15455439686775208\n"
          ],
          "name": "stdout"
        },
        {
          "output_type": "display_data",
          "data": {
            "image/png": "[encoded data removed]",
            "text/plain": [
              "<Figure size 432x288 with 1 Axes>"
            ]
          },
          "metadata": {
            "tags": []
          }
        },
        {
          "output_type": "stream",
          "text": [
            "Epoch 8 loss  0.5140362481276194\n",
            "Epoch :  9 Batch :  0 loss :  0.16063517332077026\n",
            "Epoch :  9 Batch :  100 loss :  0.17715251445770264\n",
            "Epoch :  9 Batch :  200 loss :  0.17012563347816467\n",
            "Epoch :  9 Batch :  300 loss :  0.1547013223171234\n",
            "Epoch :  9 Batch :  400 loss :  0.13521887362003326\n",
            "Epoch :  9 Batch :  500 loss :  0.15060268342494965\n",
            "Epoch :  9 Batch :  600 loss :  0.1589885950088501\n",
            "Epoch :  9 Batch :  700 loss :  0.13999244570732117\n",
            "Epoch :  9 Batch :  800 loss :  0.17948505282402039\n",
            "Epoch :  9 Batch :  900 loss :  0.1455538421869278\n"
          ],
          "name": "stdout"
        },
        {
          "output_type": "display_data",
          "data": {
            "image/png": "[encoded data removed]",
            "text/plain": [
              "<Figure size 432x288 with 1 Axes>"
            ]
          },
          "metadata": {
            "tags": []
          }
        },
        {
          "output_type": "stream",
          "text": [
            "Epoch 9 loss  0.5241520454486212\n"
          ],
          "name": "stdout"
        }
      ]
    }
  ]
}