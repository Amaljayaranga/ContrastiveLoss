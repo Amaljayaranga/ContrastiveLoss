{
  "nbformat": 4,
  "nbformat_minor": 0,
  "metadata": {
    "colab": {
      "name": "Contrastive_loss_accuracy_25_4_2020.ipynb",
      "provenance": [],
      "collapsed_sections": [],
      "authorship_tag": "ABX9TyP1NzTH/IosC8HxG/M8LYyu",
      "include_colab_link": true
    },
    "kernelspec": {
      "name": "python3",
      "display_name": "Python 3"
    },
    "accelerator": "GPU",
    "widgets": {
      "application/vnd.jupyter.widget-state+json": {
        "cc1025ab1a28498691c81acf3a8c032b": {
          "model_module": "@jupyter-widgets/controls",
          "model_name": "HBoxModel",
          "state": {
            "_view_name": "HBoxView",
            "_dom_classes": [],
            "_model_name": "HBoxModel",
            "_view_module": "@jupyter-widgets/controls",
            "_model_module_version": "1.5.0",
            "_view_count": null,
            "_view_module_version": "1.5.0",
            "box_style": "",
            "layout": "IPY_MODEL_9bb096df5c6640ca9e8ffb964fdac4b0",
            "_model_module": "@jupyter-widgets/controls",
            "children": [
              "IPY_MODEL_866496a02da649aabd4ac3ddbf8d15a7",
              "IPY_MODEL_8d0b515785424024b7113e1f0aa8b4d2"
            ]
          }
        },
        "9bb096df5c6640ca9e8ffb964fdac4b0": {
          "model_module": "@jupyter-widgets/base",
          "model_name": "LayoutModel",
          "state": {
            "_view_name": "LayoutView",
            "grid_template_rows": null,
            "right": null,
            "justify_content": null,
            "_view_module": "@jupyter-widgets/base",
            "overflow": null,
            "_model_module_version": "1.2.0",
            "_view_count": null,
            "flex_flow": null,
            "width": null,
            "min_width": null,
            "border": null,
            "align_items": null,
            "bottom": null,
            "_model_module": "@jupyter-widgets/base",
            "top": null,
            "grid_column": null,
            "overflow_y": null,
            "overflow_x": null,
            "grid_auto_flow": null,
            "grid_area": null,
            "grid_template_columns": null,
            "flex": null,
            "_model_name": "LayoutModel",
            "justify_items": null,
            "grid_row": null,
            "max_height": null,
            "align_content": null,
            "visibility": null,
            "align_self": null,
            "height": null,
            "min_height": null,
            "padding": null,
            "grid_auto_rows": null,
            "grid_gap": null,
            "max_width": null,
            "order": null,
            "_view_module_version": "1.2.0",
            "grid_template_areas": null,
            "object_position": null,
            "object_fit": null,
            "grid_auto_columns": null,
            "margin": null,
            "display": null,
            "left": null
          }
        },
        "866496a02da649aabd4ac3ddbf8d15a7": {
          "model_module": "@jupyter-widgets/controls",
          "model_name": "IntProgressModel",
          "state": {
            "_view_name": "ProgressView",
            "style": "IPY_MODEL_6028237c15aa4bfea933dd145e90486c",
            "_dom_classes": [],
            "description": "",
            "_model_name": "IntProgressModel",
            "bar_style": "info",
            "max": 1,
            "_view_module": "@jupyter-widgets/controls",
            "_model_module_version": "1.5.0",
            "value": 1,
            "_view_count": null,
            "_view_module_version": "1.5.0",
            "orientation": "horizontal",
            "min": 0,
            "description_tooltip": null,
            "_model_module": "@jupyter-widgets/controls",
            "layout": "IPY_MODEL_9dbd37317f23421bbdadbac1dd801828"
          }
        },
        "8d0b515785424024b7113e1f0aa8b4d2": {
          "model_module": "@jupyter-widgets/controls",
          "model_name": "HTMLModel",
          "state": {
            "_view_name": "HTMLView",
            "style": "IPY_MODEL_8f2d662a22f648c78cddd2272a5f8ecb",
            "_dom_classes": [],
            "description": "",
            "_model_name": "HTMLModel",
            "placeholder": "​",
            "_view_module": "@jupyter-widgets/controls",
            "_model_module_version": "1.5.0",
            "value": " 9920512/? [00:20&lt;00:00, 1222550.24it/s]",
            "_view_count": null,
            "_view_module_version": "1.5.0",
            "description_tooltip": null,
            "_model_module": "@jupyter-widgets/controls",
            "layout": "IPY_MODEL_678a870d3ac8459b8ee107c8e284c4d4"
          }
        },
        "6028237c15aa4bfea933dd145e90486c": {
          "model_module": "@jupyter-widgets/controls",
          "model_name": "ProgressStyleModel",
          "state": {
            "_view_name": "StyleView",
            "_model_name": "ProgressStyleModel",
            "description_width": "initial",
            "_view_module": "@jupyter-widgets/base",
            "_model_module_version": "1.5.0",
            "_view_count": null,
            "_view_module_version": "1.2.0",
            "bar_color": null,
            "_model_module": "@jupyter-widgets/controls"
          }
        },
        "9dbd37317f23421bbdadbac1dd801828": {
          "model_module": "@jupyter-widgets/base",
          "model_name": "LayoutModel",
          "state": {
            "_view_name": "LayoutView",
            "grid_template_rows": null,
            "right": null,
            "justify_content": null,
            "_view_module": "@jupyter-widgets/base",
            "overflow": null,
            "_model_module_version": "1.2.0",
            "_view_count": null,
            "flex_flow": null,
            "width": null,
            "min_width": null,
            "border": null,
            "align_items": null,
            "bottom": null,
            "_model_module": "@jupyter-widgets/base",
            "top": null,
            "grid_column": null,
            "overflow_y": null,
            "overflow_x": null,
            "grid_auto_flow": null,
            "grid_area": null,
            "grid_template_columns": null,
            "flex": null,
            "_model_name": "LayoutModel",
            "justify_items": null,
            "grid_row": null,
            "max_height": null,
            "align_content": null,
            "visibility": null,
            "align_self": null,
            "height": null,
            "min_height": null,
            "padding": null,
            "grid_auto_rows": null,
            "grid_gap": null,
            "max_width": null,
            "order": null,
            "_view_module_version": "1.2.0",
            "grid_template_areas": null,
            "object_position": null,
            "object_fit": null,
            "grid_auto_columns": null,
            "margin": null,
            "display": null,
            "left": null
          }
        },
        "8f2d662a22f648c78cddd2272a5f8ecb": {
          "model_module": "@jupyter-widgets/controls",
          "model_name": "DescriptionStyleModel",
          "state": {
            "_view_name": "StyleView",
            "_model_name": "DescriptionStyleModel",
            "description_width": "",
            "_view_module": "@jupyter-widgets/base",
            "_model_module_version": "1.5.0",
            "_view_count": null,
            "_view_module_version": "1.2.0",
            "_model_module": "@jupyter-widgets/controls"
          }
        },
        "678a870d3ac8459b8ee107c8e284c4d4": {
          "model_module": "@jupyter-widgets/base",
          "model_name": "LayoutModel",
          "state": {
            "_view_name": "LayoutView",
            "grid_template_rows": null,
            "right": null,
            "justify_content": null,
            "_view_module": "@jupyter-widgets/base",
            "overflow": null,
            "_model_module_version": "1.2.0",
            "_view_count": null,
            "flex_flow": null,
            "width": null,
            "min_width": null,
            "border": null,
            "align_items": null,
            "bottom": null,
            "_model_module": "@jupyter-widgets/base",
            "top": null,
            "grid_column": null,
            "overflow_y": null,
            "overflow_x": null,
            "grid_auto_flow": null,
            "grid_area": null,
            "grid_template_columns": null,
            "flex": null,
            "_model_name": "LayoutModel",
            "justify_items": null,
            "grid_row": null,
            "max_height": null,
            "align_content": null,
            "visibility": null,
            "align_self": null,
            "height": null,
            "min_height": null,
            "padding": null,
            "grid_auto_rows": null,
            "grid_gap": null,
            "max_width": null,
            "order": null,
            "_view_module_version": "1.2.0",
            "grid_template_areas": null,
            "object_position": null,
            "object_fit": null,
            "grid_auto_columns": null,
            "margin": null,
            "display": null,
            "left": null
          }
        },
        "542661e3149047a48646e8d3c98b3a62": {
          "model_module": "@jupyter-widgets/controls",
          "model_name": "HBoxModel",
          "state": {
            "_view_name": "HBoxView",
            "_dom_classes": [],
            "_model_name": "HBoxModel",
            "_view_module": "@jupyter-widgets/controls",
            "_model_module_version": "1.5.0",
            "_view_count": null,
            "_view_module_version": "1.5.0",
            "box_style": "",
            "layout": "IPY_MODEL_baf85675a2264257a77ff76d51f6a2de",
            "_model_module": "@jupyter-widgets/controls",
            "children": [
              "IPY_MODEL_0f147eebca0947d79706d8963dfe1b00",
              "IPY_MODEL_630dfd344d9546fbb791f6821fcc7410"
            ]
          }
        },
        "baf85675a2264257a77ff76d51f6a2de": {
          "model_module": "@jupyter-widgets/base",
          "model_name": "LayoutModel",
          "state": {
            "_view_name": "LayoutView",
            "grid_template_rows": null,
            "right": null,
            "justify_content": null,
            "_view_module": "@jupyter-widgets/base",
            "overflow": null,
            "_model_module_version": "1.2.0",
            "_view_count": null,
            "flex_flow": null,
            "width": null,
            "min_width": null,
            "border": null,
            "align_items": null,
            "bottom": null,
            "_model_module": "@jupyter-widgets/base",
            "top": null,
            "grid_column": null,
            "overflow_y": null,
            "overflow_x": null,
            "grid_auto_flow": null,
            "grid_area": null,
            "grid_template_columns": null,
            "flex": null,
            "_model_name": "LayoutModel",
            "justify_items": null,
            "grid_row": null,
            "max_height": null,
            "align_content": null,
            "visibility": null,
            "align_self": null,
            "height": null,
            "min_height": null,
            "padding": null,
            "grid_auto_rows": null,
            "grid_gap": null,
            "max_width": null,
            "order": null,
            "_view_module_version": "1.2.0",
            "grid_template_areas": null,
            "object_position": null,
            "object_fit": null,
            "grid_auto_columns": null,
            "margin": null,
            "display": null,
            "left": null
          }
        },
        "0f147eebca0947d79706d8963dfe1b00": {
          "model_module": "@jupyter-widgets/controls",
          "model_name": "IntProgressModel",
          "state": {
            "_view_name": "ProgressView",
            "style": "IPY_MODEL_264822e7174f4aa1bdc766544e9e2063",
            "_dom_classes": [],
            "description": "",
            "_model_name": "IntProgressModel",
            "bar_style": "success",
            "max": 1,
            "_view_module": "@jupyter-widgets/controls",
            "_model_module_version": "1.5.0",
            "value": 1,
            "_view_count": null,
            "_view_module_version": "1.5.0",
            "orientation": "horizontal",
            "min": 0,
            "description_tooltip": null,
            "_model_module": "@jupyter-widgets/controls",
            "layout": "IPY_MODEL_bb38c62d463341d99464b949a6fa0258"
          }
        },
        "630dfd344d9546fbb791f6821fcc7410": {
          "model_module": "@jupyter-widgets/controls",
          "model_name": "HTMLModel",
          "state": {
            "_view_name": "HTMLView",
            "style": "IPY_MODEL_96c3069516274873b7b40f08918baa18",
            "_dom_classes": [],
            "description": "",
            "_model_name": "HTMLModel",
            "placeholder": "​",
            "_view_module": "@jupyter-widgets/controls",
            "_model_module_version": "1.5.0",
            "value": " 32768/? [00:03&lt;00:00, 9859.71it/s]",
            "_view_count": null,
            "_view_module_version": "1.5.0",
            "description_tooltip": null,
            "_model_module": "@jupyter-widgets/controls",
            "layout": "IPY_MODEL_7d9ade46a0794c53bf1a1d205ca8b06f"
          }
        },
        "264822e7174f4aa1bdc766544e9e2063": {
          "model_module": "@jupyter-widgets/controls",
          "model_name": "ProgressStyleModel",
          "state": {
            "_view_name": "StyleView",
            "_model_name": "ProgressStyleModel",
            "description_width": "initial",
            "_view_module": "@jupyter-widgets/base",
            "_model_module_version": "1.5.0",
            "_view_count": null,
            "_view_module_version": "1.2.0",
            "bar_color": null,
            "_model_module": "@jupyter-widgets/controls"
          }
        },
        "bb38c62d463341d99464b949a6fa0258": {
          "model_module": "@jupyter-widgets/base",
          "model_name": "LayoutModel",
          "state": {
            "_view_name": "LayoutView",
            "grid_template_rows": null,
            "right": null,
            "justify_content": null,
            "_view_module": "@jupyter-widgets/base",
            "overflow": null,
            "_model_module_version": "1.2.0",
            "_view_count": null,
            "flex_flow": null,
            "width": null,
            "min_width": null,
            "border": null,
            "align_items": null,
            "bottom": null,
            "_model_module": "@jupyter-widgets/base",
            "top": null,
            "grid_column": null,
            "overflow_y": null,
            "overflow_x": null,
            "grid_auto_flow": null,
            "grid_area": null,
            "grid_template_columns": null,
            "flex": null,
            "_model_name": "LayoutModel",
            "justify_items": null,
            "grid_row": null,
            "max_height": null,
            "align_content": null,
            "visibility": null,
            "align_self": null,
            "height": null,
            "min_height": null,
            "padding": null,
            "grid_auto_rows": null,
            "grid_gap": null,
            "max_width": null,
            "order": null,
            "_view_module_version": "1.2.0",
            "grid_template_areas": null,
            "object_position": null,
            "object_fit": null,
            "grid_auto_columns": null,
            "margin": null,
            "display": null,
            "left": null
          }
        },
        "96c3069516274873b7b40f08918baa18": {
          "model_module": "@jupyter-widgets/controls",
          "model_name": "DescriptionStyleModel",
          "state": {
            "_view_name": "StyleView",
            "_model_name": "DescriptionStyleModel",
            "description_width": "",
            "_view_module": "@jupyter-widgets/base",
            "_model_module_version": "1.5.0",
            "_view_count": null,
            "_view_module_version": "1.2.0",
            "_model_module": "@jupyter-widgets/controls"
          }
        },
        "7d9ade46a0794c53bf1a1d205ca8b06f": {
          "model_module": "@jupyter-widgets/base",
          "model_name": "LayoutModel",
          "state": {
            "_view_name": "LayoutView",
            "grid_template_rows": null,
            "right": null,
            "justify_content": null,
            "_view_module": "@jupyter-widgets/base",
            "overflow": null,
            "_model_module_version": "1.2.0",
            "_view_count": null,
            "flex_flow": null,
            "width": null,
            "min_width": null,
            "border": null,
            "align_items": null,
            "bottom": null,
            "_model_module": "@jupyter-widgets/base",
            "top": null,
            "grid_column": null,
            "overflow_y": null,
            "overflow_x": null,
            "grid_auto_flow": null,
            "grid_area": null,
            "grid_template_columns": null,
            "flex": null,
            "_model_name": "LayoutModel",
            "justify_items": null,
            "grid_row": null,
            "max_height": null,
            "align_content": null,
            "visibility": null,
            "align_self": null,
            "height": null,
            "min_height": null,
            "padding": null,
            "grid_auto_rows": null,
            "grid_gap": null,
            "max_width": null,
            "order": null,
            "_view_module_version": "1.2.0",
            "grid_template_areas": null,
            "object_position": null,
            "object_fit": null,
            "grid_auto_columns": null,
            "margin": null,
            "display": null,
            "left": null
          }
        },
        "733e2cf6f24c4a5184239bfdb29af3b6": {
          "model_module": "@jupyter-widgets/controls",
          "model_name": "HBoxModel",
          "state": {
            "_view_name": "HBoxView",
            "_dom_classes": [],
            "_model_name": "HBoxModel",
            "_view_module": "@jupyter-widgets/controls",
            "_model_module_version": "1.5.0",
            "_view_count": null,
            "_view_module_version": "1.5.0",
            "box_style": "",
            "layout": "IPY_MODEL_43eae561cfd74586a241e49c8a53a390",
            "_model_module": "@jupyter-widgets/controls",
            "children": [
              "IPY_MODEL_73bc0f884056453885df50b37838389c",
              "IPY_MODEL_9f5005eebe234f25b325f93610c2bc5d"
            ]
          }
        },
        "43eae561cfd74586a241e49c8a53a390": {
          "model_module": "@jupyter-widgets/base",
          "model_name": "LayoutModel",
          "state": {
            "_view_name": "LayoutView",
            "grid_template_rows": null,
            "right": null,
            "justify_content": null,
            "_view_module": "@jupyter-widgets/base",
            "overflow": null,
            "_model_module_version": "1.2.0",
            "_view_count": null,
            "flex_flow": null,
            "width": null,
            "min_width": null,
            "border": null,
            "align_items": null,
            "bottom": null,
            "_model_module": "@jupyter-widgets/base",
            "top": null,
            "grid_column": null,
            "overflow_y": null,
            "overflow_x": null,
            "grid_auto_flow": null,
            "grid_area": null,
            "grid_template_columns": null,
            "flex": null,
            "_model_name": "LayoutModel",
            "justify_items": null,
            "grid_row": null,
            "max_height": null,
            "align_content": null,
            "visibility": null,
            "align_self": null,
            "height": null,
            "min_height": null,
            "padding": null,
            "grid_auto_rows": null,
            "grid_gap": null,
            "max_width": null,
            "order": null,
            "_view_module_version": "1.2.0",
            "grid_template_areas": null,
            "object_position": null,
            "object_fit": null,
            "grid_auto_columns": null,
            "margin": null,
            "display": null,
            "left": null
          }
        },
        "73bc0f884056453885df50b37838389c": {
          "model_module": "@jupyter-widgets/controls",
          "model_name": "IntProgressModel",
          "state": {
            "_view_name": "ProgressView",
            "style": "IPY_MODEL_de89abed855042e5a9522c7ffc24fed7",
            "_dom_classes": [],
            "description": "",
            "_model_name": "IntProgressModel",
            "bar_style": "success",
            "max": 1,
            "_view_module": "@jupyter-widgets/controls",
            "_model_module_version": "1.5.0",
            "value": 1,
            "_view_count": null,
            "_view_module_version": "1.5.0",
            "orientation": "horizontal",
            "min": 0,
            "description_tooltip": null,
            "_model_module": "@jupyter-widgets/controls",
            "layout": "IPY_MODEL_40e53c619d744fcb8336bde6f37b5b3c"
          }
        },
        "9f5005eebe234f25b325f93610c2bc5d": {
          "model_module": "@jupyter-widgets/controls",
          "model_name": "HTMLModel",
          "state": {
            "_view_name": "HTMLView",
            "style": "IPY_MODEL_fb87a0c3dd004fc68a7fae1608e54648",
            "_dom_classes": [],
            "description": "",
            "_model_name": "HTMLModel",
            "placeholder": "​",
            "_view_module": "@jupyter-widgets/controls",
            "_model_module_version": "1.5.0",
            "value": " 1654784/? [00:02&lt;00:00, 637687.96it/s]",
            "_view_count": null,
            "_view_module_version": "1.5.0",
            "description_tooltip": null,
            "_model_module": "@jupyter-widgets/controls",
            "layout": "IPY_MODEL_2d9ff8a4e24944fb880ef750b1d7b33a"
          }
        },
        "de89abed855042e5a9522c7ffc24fed7": {
          "model_module": "@jupyter-widgets/controls",
          "model_name": "ProgressStyleModel",
          "state": {
            "_view_name": "StyleView",
            "_model_name": "ProgressStyleModel",
            "description_width": "initial",
            "_view_module": "@jupyter-widgets/base",
            "_model_module_version": "1.5.0",
            "_view_count": null,
            "_view_module_version": "1.2.0",
            "bar_color": null,
            "_model_module": "@jupyter-widgets/controls"
          }
        },
        "40e53c619d744fcb8336bde6f37b5b3c": {
          "model_module": "@jupyter-widgets/base",
          "model_name": "LayoutModel",
          "state": {
            "_view_name": "LayoutView",
            "grid_template_rows": null,
            "right": null,
            "justify_content": null,
            "_view_module": "@jupyter-widgets/base",
            "overflow": null,
            "_model_module_version": "1.2.0",
            "_view_count": null,
            "flex_flow": null,
            "width": null,
            "min_width": null,
            "border": null,
            "align_items": null,
            "bottom": null,
            "_model_module": "@jupyter-widgets/base",
            "top": null,
            "grid_column": null,
            "overflow_y": null,
            "overflow_x": null,
            "grid_auto_flow": null,
            "grid_area": null,
            "grid_template_columns": null,
            "flex": null,
            "_model_name": "LayoutModel",
            "justify_items": null,
            "grid_row": null,
            "max_height": null,
            "align_content": null,
            "visibility": null,
            "align_self": null,
            "height": null,
            "min_height": null,
            "padding": null,
            "grid_auto_rows": null,
            "grid_gap": null,
            "max_width": null,
            "order": null,
            "_view_module_version": "1.2.0",
            "grid_template_areas": null,
            "object_position": null,
            "object_fit": null,
            "grid_auto_columns": null,
            "margin": null,
            "display": null,
            "left": null
          }
        },
        "fb87a0c3dd004fc68a7fae1608e54648": {
          "model_module": "@jupyter-widgets/controls",
          "model_name": "DescriptionStyleModel",
          "state": {
            "_view_name": "StyleView",
            "_model_name": "DescriptionStyleModel",
            "description_width": "",
            "_view_module": "@jupyter-widgets/base",
            "_model_module_version": "1.5.0",
            "_view_count": null,
            "_view_module_version": "1.2.0",
            "_model_module": "@jupyter-widgets/controls"
          }
        },
        "2d9ff8a4e24944fb880ef750b1d7b33a": {
          "model_module": "@jupyter-widgets/base",
          "model_name": "LayoutModel",
          "state": {
            "_view_name": "LayoutView",
            "grid_template_rows": null,
            "right": null,
            "justify_content": null,
            "_view_module": "@jupyter-widgets/base",
            "overflow": null,
            "_model_module_version": "1.2.0",
            "_view_count": null,
            "flex_flow": null,
            "width": null,
            "min_width": null,
            "border": null,
            "align_items": null,
            "bottom": null,
            "_model_module": "@jupyter-widgets/base",
            "top": null,
            "grid_column": null,
            "overflow_y": null,
            "overflow_x": null,
            "grid_auto_flow": null,
            "grid_area": null,
            "grid_template_columns": null,
            "flex": null,
            "_model_name": "LayoutModel",
            "justify_items": null,
            "grid_row": null,
            "max_height": null,
            "align_content": null,
            "visibility": null,
            "align_self": null,
            "height": null,
            "min_height": null,
            "padding": null,
            "grid_auto_rows": null,
            "grid_gap": null,
            "max_width": null,
            "order": null,
            "_view_module_version": "1.2.0",
            "grid_template_areas": null,
            "object_position": null,
            "object_fit": null,
            "grid_auto_columns": null,
            "margin": null,
            "display": null,
            "left": null
          }
        },
        "329880f956ce4a63b99839400732d6bc": {
          "model_module": "@jupyter-widgets/controls",
          "model_name": "HBoxModel",
          "state": {
            "_view_name": "HBoxView",
            "_dom_classes": [],
            "_model_name": "HBoxModel",
            "_view_module": "@jupyter-widgets/controls",
            "_model_module_version": "1.5.0",
            "_view_count": null,
            "_view_module_version": "1.5.0",
            "box_style": "",
            "layout": "IPY_MODEL_3833f57fda4749f89ca0a3dc287156af",
            "_model_module": "@jupyter-widgets/controls",
            "children": [
              "IPY_MODEL_1f4cd59ac5a949b2ab0cca9861d73ae9",
              "IPY_MODEL_bda1dde4d2b040f5a2883f39ed921ace"
            ]
          }
        },
        "3833f57fda4749f89ca0a3dc287156af": {
          "model_module": "@jupyter-widgets/base",
          "model_name": "LayoutModel",
          "state": {
            "_view_name": "LayoutView",
            "grid_template_rows": null,
            "right": null,
            "justify_content": null,
            "_view_module": "@jupyter-widgets/base",
            "overflow": null,
            "_model_module_version": "1.2.0",
            "_view_count": null,
            "flex_flow": null,
            "width": null,
            "min_width": null,
            "border": null,
            "align_items": null,
            "bottom": null,
            "_model_module": "@jupyter-widgets/base",
            "top": null,
            "grid_column": null,
            "overflow_y": null,
            "overflow_x": null,
            "grid_auto_flow": null,
            "grid_area": null,
            "grid_template_columns": null,
            "flex": null,
            "_model_name": "LayoutModel",
            "justify_items": null,
            "grid_row": null,
            "max_height": null,
            "align_content": null,
            "visibility": null,
            "align_self": null,
            "height": null,
            "min_height": null,
            "padding": null,
            "grid_auto_rows": null,
            "grid_gap": null,
            "max_width": null,
            "order": null,
            "_view_module_version": "1.2.0",
            "grid_template_areas": null,
            "object_position": null,
            "object_fit": null,
            "grid_auto_columns": null,
            "margin": null,
            "display": null,
            "left": null
          }
        },
        "1f4cd59ac5a949b2ab0cca9861d73ae9": {
          "model_module": "@jupyter-widgets/controls",
          "model_name": "IntProgressModel",
          "state": {
            "_view_name": "ProgressView",
            "style": "IPY_MODEL_a853f2d71b4c4c49b84acf4bfce7f789",
            "_dom_classes": [],
            "description": "",
            "_model_name": "IntProgressModel",
            "bar_style": "success",
            "max": 1,
            "_view_module": "@jupyter-widgets/controls",
            "_model_module_version": "1.5.0",
            "value": 1,
            "_view_count": null,
            "_view_module_version": "1.5.0",
            "orientation": "horizontal",
            "min": 0,
            "description_tooltip": null,
            "_model_module": "@jupyter-widgets/controls",
            "layout": "IPY_MODEL_b0bf205b4d6342088fe5115301be0c86"
          }
        },
        "bda1dde4d2b040f5a2883f39ed921ace": {
          "model_module": "@jupyter-widgets/controls",
          "model_name": "HTMLModel",
          "state": {
            "_view_name": "HTMLView",
            "style": "IPY_MODEL_bde8a626a3f842abbf6a233f7ab7c2da",
            "_dom_classes": [],
            "description": "",
            "_model_name": "HTMLModel",
            "placeholder": "​",
            "_view_module": "@jupyter-widgets/controls",
            "_model_module_version": "1.5.0",
            "value": " 8192/? [00:00&lt;00:00, 12940.71it/s]",
            "_view_count": null,
            "_view_module_version": "1.5.0",
            "description_tooltip": null,
            "_model_module": "@jupyter-widgets/controls",
            "layout": "IPY_MODEL_078d51878cdc4a1aa2a63f43a92c9db2"
          }
        },
        "a853f2d71b4c4c49b84acf4bfce7f789": {
          "model_module": "@jupyter-widgets/controls",
          "model_name": "ProgressStyleModel",
          "state": {
            "_view_name": "StyleView",
            "_model_name": "ProgressStyleModel",
            "description_width": "initial",
            "_view_module": "@jupyter-widgets/base",
            "_model_module_version": "1.5.0",
            "_view_count": null,
            "_view_module_version": "1.2.0",
            "bar_color": null,
            "_model_module": "@jupyter-widgets/controls"
          }
        },
        "b0bf205b4d6342088fe5115301be0c86": {
          "model_module": "@jupyter-widgets/base",
          "model_name": "LayoutModel",
          "state": {
            "_view_name": "LayoutView",
            "grid_template_rows": null,
            "right": null,
            "justify_content": null,
            "_view_module": "@jupyter-widgets/base",
            "overflow": null,
            "_model_module_version": "1.2.0",
            "_view_count": null,
            "flex_flow": null,
            "width": null,
            "min_width": null,
            "border": null,
            "align_items": null,
            "bottom": null,
            "_model_module": "@jupyter-widgets/base",
            "top": null,
            "grid_column": null,
            "overflow_y": null,
            "overflow_x": null,
            "grid_auto_flow": null,
            "grid_area": null,
            "grid_template_columns": null,
            "flex": null,
            "_model_name": "LayoutModel",
            "justify_items": null,
            "grid_row": null,
            "max_height": null,
            "align_content": null,
            "visibility": null,
            "align_self": null,
            "height": null,
            "min_height": null,
            "padding": null,
            "grid_auto_rows": null,
            "grid_gap": null,
            "max_width": null,
            "order": null,
            "_view_module_version": "1.2.0",
            "grid_template_areas": null,
            "object_position": null,
            "object_fit": null,
            "grid_auto_columns": null,
            "margin": null,
            "display": null,
            "left": null
          }
        },
        "bde8a626a3f842abbf6a233f7ab7c2da": {
          "model_module": "@jupyter-widgets/controls",
          "model_name": "DescriptionStyleModel",
          "state": {
            "_view_name": "StyleView",
            "_model_name": "DescriptionStyleModel",
            "description_width": "",
            "_view_module": "@jupyter-widgets/base",
            "_model_module_version": "1.5.0",
            "_view_count": null,
            "_view_module_version": "1.2.0",
            "_model_module": "@jupyter-widgets/controls"
          }
        },
        "078d51878cdc4a1aa2a63f43a92c9db2": {
          "model_module": "@jupyter-widgets/base",
          "model_name": "LayoutModel",
          "state": {
            "_view_name": "LayoutView",
            "grid_template_rows": null,
            "right": null,
            "justify_content": null,
            "_view_module": "@jupyter-widgets/base",
            "overflow": null,
            "_model_module_version": "1.2.0",
            "_view_count": null,
            "flex_flow": null,
            "width": null,
            "min_width": null,
            "border": null,
            "align_items": null,
            "bottom": null,
            "_model_module": "@jupyter-widgets/base",
            "top": null,
            "grid_column": null,
            "overflow_y": null,
            "overflow_x": null,
            "grid_auto_flow": null,
            "grid_area": null,
            "grid_template_columns": null,
            "flex": null,
            "_model_name": "LayoutModel",
            "justify_items": null,
            "grid_row": null,
            "max_height": null,
            "align_content": null,
            "visibility": null,
            "align_self": null,
            "height": null,
            "min_height": null,
            "padding": null,
            "grid_auto_rows": null,
            "grid_gap": null,
            "max_width": null,
            "order": null,
            "_view_module_version": "1.2.0",
            "grid_template_areas": null,
            "object_position": null,
            "object_fit": null,
            "grid_auto_columns": null,
            "margin": null,
            "display": null,
            "left": null
          }
        }
      }
    }
  },
  "cells": [
    {
      "cell_type": "markdown",
      "metadata": {
        "id": "view-in-github",
        "colab_type": "text"
      },
      "source": [
        "<a href=\"https://colab.research.google.com/github/Amaljayaranga/ContrastiveLoss/blob/master/Contrastive_loss_accuracy_25_4_2020.ipynb\" target=\"_parent\"><img src=\"https://colab.research.google.com/assets/colab-badge.svg\" alt=\"Open In Colab\"/></a>"
      ]
    },
    {
      "cell_type": "code",
      "metadata": {
        "id": "gZD8QTN2kDOd",
        "colab_type": "code",
        "colab": {}
      },
      "source": [
        ""
      ],
      "execution_count": 0,
      "outputs": []
    },
    {
      "cell_type": "code",
      "metadata": {
        "id": "V171uyxsyNhS",
        "colab_type": "code",
        "outputId": "43237cc3-5670-48cd-a473-80a9df2faaa4",
        "colab": {
          "base_uri": "https://localhost:8080/",
          "height": 1000,
          "referenced_widgets": [
            "cc1025ab1a28498691c81acf3a8c032b",
            "9bb096df5c6640ca9e8ffb964fdac4b0",
            "866496a02da649aabd4ac3ddbf8d15a7",
            "8d0b515785424024b7113e1f0aa8b4d2",
            "6028237c15aa4bfea933dd145e90486c",
            "9dbd37317f23421bbdadbac1dd801828",
            "8f2d662a22f648c78cddd2272a5f8ecb",
            "678a870d3ac8459b8ee107c8e284c4d4",
            "542661e3149047a48646e8d3c98b3a62",
            "baf85675a2264257a77ff76d51f6a2de",
            "0f147eebca0947d79706d8963dfe1b00",
            "630dfd344d9546fbb791f6821fcc7410",
            "264822e7174f4aa1bdc766544e9e2063",
            "bb38c62d463341d99464b949a6fa0258",
            "96c3069516274873b7b40f08918baa18",
            "7d9ade46a0794c53bf1a1d205ca8b06f",
            "733e2cf6f24c4a5184239bfdb29af3b6",
            "43eae561cfd74586a241e49c8a53a390",
            "73bc0f884056453885df50b37838389c",
            "9f5005eebe234f25b325f93610c2bc5d",
            "de89abed855042e5a9522c7ffc24fed7",
            "40e53c619d744fcb8336bde6f37b5b3c",
            "fb87a0c3dd004fc68a7fae1608e54648",
            "2d9ff8a4e24944fb880ef750b1d7b33a",
            "329880f956ce4a63b99839400732d6bc",
            "3833f57fda4749f89ca0a3dc287156af",
            "1f4cd59ac5a949b2ab0cca9861d73ae9",
            "bda1dde4d2b040f5a2883f39ed921ace",
            "a853f2d71b4c4c49b84acf4bfce7f789",
            "b0bf205b4d6342088fe5115301be0c86",
            "bde8a626a3f842abbf6a233f7ab7c2da",
            "078d51878cdc4a1aa2a63f43a92c9db2"
          ]
        }
      },
      "source": [
        "from argparse import ArgumentParser\n",
        "import matplotlib.pyplot as plt\n",
        "import numpy as np\n",
        "import seaborn as sns;sns.set()\n",
        "import torch\n",
        "import torch.nn as nn\n",
        "import torch.nn.functional as F\n",
        "import torch.optim as optim\n",
        "from torch.utils.data import Dataset\n",
        "from torch.utils.data.sampler import SubsetRandomSampler\n",
        "from torchvision import transforms\n",
        "from torchvision.datasets import MNIST\n",
        "from sklearn.metrics import f1_score\n",
        "from PIL import Image\n",
        "from sklearn.preprocessing import OneHotEncoder, LabelEncoder\n",
        "\n",
        "parser = ArgumentParser(description='Simase Network')\n",
        "parser.add_argument('--batch_size', type=int, default=64)\n",
        "parser.add_argument('--constractive_loss_margin', type=float, default=0.8)\n",
        "parser.add_argument('--learning_rate', type=float, default=1e-3)\n",
        "parser.add_argument('--num_epochs', type=int, default=20)\n",
        "parser.add_argument('--weight_decay', type=float, default=1e-5)\n",
        "parser.add_argument('--validation_split', type=float, default=0.3)\n",
        "parser.add_argument('--mode', type=str, default='train')\n",
        "parser.add_argument('--device', type=str, default='cuda')\n",
        "\n",
        "args, unknown = parser.parse_known_args()\n",
        "\n",
        "DEVICE = args.device\n",
        "if not torch.cuda.is_available():\n",
        "    DEVICE = 'cpu'\n",
        "\n",
        "class SimaseNet(nn.Module):\n",
        "\n",
        "    def __init__(self):\n",
        "        super(SimaseNet, self).__init__()\n",
        "\n",
        "        self.conv = nn.Sequential(nn.Conv2d(in_channels=1, out_channels=32, kernel_size=5),\n",
        "                                  nn.ReLU(),\n",
        "                                  nn.MaxPool2d(kernel_size=2, stride=2),\n",
        "                                  nn.Conv2d(in_channels=32, out_channels=64, kernel_size=5),\n",
        "                                  nn.ReLU(),\n",
        "                                  nn.MaxPool2d(kernel_size=2, stride=2)\n",
        "                                  )\n",
        "        # output 64,4,4\n",
        "        self.fc = nn.Sequential(nn.Linear(64 * 4 * 4, 256),\n",
        "                                nn.ReLU(),\n",
        "                                nn.Linear(256, 256),\n",
        "                                nn.ReLU(),\n",
        "                                nn.Linear(256, 16)\n",
        "                                )\n",
        "\n",
        "    def forward_once(self, x):\n",
        "        x = self.conv(x)\n",
        "        x = x.view(x.size()[0], -1)\n",
        "        x = self.fc(x)\n",
        "        return x\n",
        "\n",
        "    def forward(self, in1, in2):\n",
        "        out1 = self.forward_once(in1)\n",
        "        out2 = self.forward_once(in2)\n",
        "        return out1, out2\n",
        "\n",
        "\n",
        "class SiameseMNIST(Dataset):\n",
        "\n",
        "    def __init__(self, mnist_dataset):\n",
        "        self.mnist_dataset = mnist_dataset\n",
        "        self.train = self.mnist_dataset.train\n",
        "        self.transform = self.mnist_dataset.transform\n",
        "\n",
        "        if self.train:\n",
        "            self.train_labels = self.mnist_dataset.train_labels\n",
        "            self.train_data = self.mnist_dataset.train_data\n",
        "            self.labels_set = set(self.train_labels.numpy())\n",
        "            self.label_to_indices = {label: np.where(self.train_labels.numpy() == label)[0]\n",
        "                                     for label in self.labels_set}\n",
        "\n",
        "        else:\n",
        "            self.test_labels = self.mnist_dataset.test_labels\n",
        "            self.test_data = self.mnist_dataset.test_data\n",
        "            self.labels_set = set(self.test_labels.numpy())\n",
        "            self.label_to_indices = {label: np.where(self.test_labels.numpy() == label)[0]\n",
        "                                     for label in self.labels_set}\n",
        "\n",
        "            random_state = np.random.RandomState(29)\n",
        "\n",
        "            positive_pairs = [[i,\n",
        "                               random_state.choice(self.label_to_indices[self.test_labels[i].item()]),\n",
        "                               1]\n",
        "                              for i in range(0, len(self.test_data), 2)]\n",
        "\n",
        "            negative_pairs = [[i,\n",
        "                               random_state.choice(self.label_to_indices[\n",
        "                                                       np.random.choice(\n",
        "                                                           list(self.labels_set - set([self.test_labels[i].item()]))\n",
        "                                                       )\n",
        "                                                   ]),\n",
        "                               0]\n",
        "                              for i in range(1, len(self.test_data), 2)]\n",
        "            self.test_pairs = positive_pairs + negative_pairs\n",
        "\n",
        "    def __len__(self):\n",
        "        return len(self.mnist_dataset)\n",
        "\n",
        "    def __getitem__(self, index):\n",
        "\n",
        "        if self.train:\n",
        "            target = np.random.randint(0, 2)  # 0,1\n",
        "            img1, label1 = self.train_data[index], self.train_labels[index].item()\n",
        "            if target == 1:  # similar ones\n",
        "                siamese_index = index\n",
        "                while siamese_index == index:\n",
        "                    siamese_index = np.random.choice(self.label_to_indices[label1])  # Random\n",
        "\n",
        "            else:\n",
        "                siamese_label = np.random.choice(list(self.labels_set - set([label1])))\n",
        "                siamese_index = np.random.choice(self.label_to_indices[siamese_label])\n",
        "            img2 = self.train_data[siamese_index]\n",
        "            label2 = self.train_labels[siamese_index]\n",
        "\n",
        "\n",
        "        else:\n",
        "            img1 = self.test_data[self.test_pairs[index][0]]\n",
        "            label1 = self.test_labels[self.test_pairs[index][0]]\n",
        "            img2 = self.test_data[self.test_pairs[index][1]]\n",
        "            label2 = self.test_labels[self.test_pairs[index][1]]\n",
        "            target = self.test_pairs[index][2]\n",
        "\n",
        "        img1 = Image.fromarray(img1.numpy())\n",
        "        img2 = Image.fromarray(img2.numpy())\n",
        "\n",
        "        if self.transform is not None:\n",
        "            img1 = self.transform(img1)\n",
        "            img2 = self.transform(img2)\n",
        "\n",
        "        return img1, img2, target ,label1, label2\n",
        "\n",
        "\n",
        "class ContrastiveLoss(nn.Module):\n",
        "\n",
        "    def __init__(self, margin):\n",
        "        super(ContrastiveLoss, self).__init__()\n",
        "        self.margin = margin\n",
        "\n",
        "    def forward(self, output, target):\n",
        "        eq_distance = F.pairwise_distance(output[0], output[1])\n",
        "        loss = 0.5 * (1 - target.float()) * torch.pow(eq_distance, 2) + \\\n",
        "               0.5 * target.float() * torch.pow(torch.clamp(self.margin - eq_distance, min=0.00), 2)\n",
        "\n",
        "        return loss.mean()\n",
        "\n",
        "\n",
        "train_dataset = MNIST('../data/MNIST', train=True, download=True,\n",
        "                      transform=transforms.Compose([\n",
        "                          transforms.ToTensor()\n",
        "                      ]))\n",
        "\n",
        "test_dataset = MNIST('../data/MNIST', train=False, download=True,\n",
        "                     transform=transforms.Compose([\n",
        "                         transforms.ToTensor()\n",
        "                     ]))\n",
        "\n",
        "siamese_train_dataset = SiameseMNIST(train_dataset)\n",
        "split = int(np.floor(args.validation_split * len(siamese_train_dataset)))\n",
        "indices = list(range(len(siamese_train_dataset)))\n",
        "train_indices, val_indices = indices[split:], indices[:split]\n",
        "train_sampler = SubsetRandomSampler(train_indices)\n",
        "valid_sampler = SubsetRandomSampler(val_indices)\n",
        "\n",
        "siamese_train_loader = torch.utils.data.DataLoader(siamese_train_dataset, batch_size=args.batch_size,\n",
        "                                                   sampler=train_sampler, drop_last=True)\n",
        "siamese_val_loader = torch.utils.data.DataLoader(siamese_train_dataset, batch_size=args.batch_size,\n",
        "                                                 sampler=valid_sampler)\n",
        "\n",
        "simase_test_dataset = SiameseMNIST(test_dataset)\n",
        "siamese_test_loader = torch.utils.data.DataLoader(simase_test_dataset, batch_size=args.batch_size, shuffle=True)\n",
        "\n",
        "\n",
        "model = SimaseNet()\n",
        "criterion = ContrastiveLoss(margin=args.constractive_loss_margin)\n",
        "optimizer = optim.Adam(model.parameters(), lr=args.learning_rate, weight_decay=args.weight_decay)\n",
        "\n",
        "def draw_loss_plot(training_losses, validation_losses, epochs):\n",
        "    plt.plot(epochs, training_losses, label=\"train\")\n",
        "    plt.plot(epochs, validation_losses, label=\"eval\")\n",
        "    plt.xlabel('Epochs')\n",
        "    plt.ylabel('Loss')\n",
        "    plt.title('Train / Validation Loss')\n",
        "    plt.legend()\n",
        "    plt.show()\n",
        "\n",
        "def draw_accuracy_plot(training_accuracy, testing_accuracy, epochs):\n",
        "    plt.plot(epochs, training_accuracy, label=\"train\")\n",
        "    plt.plot(epochs, testing_accuracy, label=\"test\")\n",
        "    plt.xlabel('Epochs')\n",
        "    plt.ylabel('Accuracy %')\n",
        "    plt.title('Train / Test Accuracy')\n",
        "    plt.legend()\n",
        "    plt.show()\n",
        "\n",
        "model = model.to(DEVICE)\n",
        "\n",
        "train_losses = []\n",
        "eval_losses = []\n",
        "epochs = []\n",
        "\n",
        "train_accuracy = []\n",
        "test_accuracy = []\n",
        "\n",
        "chunk = 100\n",
        "\n",
        "for epoch in range(1, args.num_epochs + 1):\n",
        "\n",
        "    epochs.append(epoch)\n",
        "\n",
        "    \n",
        "    for dataloader in [siamese_train_loader, siamese_val_loader]:\n",
        "      losses = []\n",
        "\n",
        "      if dataloader == siamese_train_loader:\n",
        "        model.train()\n",
        "        torch.set_grad_enabled(True)\n",
        "      else:\n",
        "        model.eval()\n",
        "        torch.set_grad_enabled(False)\n",
        "\n",
        "      for batch in dataloader:\n",
        "\n",
        "        img1, img2, target, label1, label2 = batch\n",
        "        img1 = img1.to(DEVICE)\n",
        "        img2 = img2.to(DEVICE)\n",
        "        target = target.to(DEVICE)\n",
        "        out1, out2 = model(img1, img2)\n",
        "        out1 = out1.to(DEVICE)\n",
        "        out2 = out2.to(DEVICE)\n",
        "        out = [out1, out2]\n",
        "        loss = criterion(out, target)\n",
        "\n",
        "        if dataloader == siamese_train_loader:\n",
        "          optimizer.zero_grad()\n",
        "          loss.backward()\n",
        "          optimizer.step()\n",
        "\n",
        "        #if batch_idx % chunk == 0:\n",
        "            #print(\"Epoch : \", epoch, \"Batch : \", batch_idx, \"loss : \", loss.item())\n",
        "\n",
        "        losses.append(loss.item())\n",
        "\n",
        "      if dataloader == siamese_train_loader:\n",
        "        train_losses.append(np.mean(losses))\n",
        "        print(\"Epoch\", epoch, \" traning loss \", np.mean(losses))\n",
        "      else:\n",
        "        eval_losses.append(np.mean(losses))\n",
        "        print(\"Epoch\", epoch, \" Eval loss \", np.mean(losses))\n",
        " \n",
        "    torch.save(model, '1.pth')\n",
        "    print('model is saving')\n",
        "    \n",
        "  \n",
        "    model = torch.load('1.pth')\n",
        "    model = model.to(DEVICE)\n",
        "    model.eval()\n",
        "    torch.set_grad_enabled(False)\n",
        "\n",
        "    # calculate center points\n",
        "    for dataloader in [siamese_train_loader,siamese_test_loader]:\n",
        "            center_list = {}\n",
        "            epoch_accuracy = []\n",
        "\n",
        "            for batch_idx, batch in enumerate(dataloader):\n",
        "                img1, img2, target, img1_label, img2_label = batch\n",
        "                img1 = img1.to(DEVICE)\n",
        "                img2 = img2.to(DEVICE)\n",
        "                out1, out2 = model(img1, img2)\n",
        "\n",
        "                labels_set = list(set(np.concatenate((img1_label.numpy(), img2_label.numpy()), axis=0)))\n",
        "\n",
        "                center_list_img1 = {label: out1[np.where(img1_label == label)[0]] for label in labels_set}\n",
        "                center_list_img2 = {label: out2[np.where(img2_label == label)[0]] for label in labels_set}\n",
        "\n",
        "                # calulate center point\n",
        "                for key in center_list_img1.keys():\n",
        "                    val = center_list_img1.get(key)\n",
        "                    val = torch.cat((val, center_list_img2.get(key)))\n",
        "                    center_arr = np.average(val.cpu().detach().numpy(), axis=1)\n",
        "                    center_vec = val[np.abs(center_arr - np.median(val.cpu().detach().numpy())).argmin()]\n",
        "                    center_list[key] = center_vec\n",
        "\n",
        "                # finding closet cluster\n",
        "                batch_out1_closet = []\n",
        "                batch_out2_closet = []\n",
        "                for o1, o2 in zip(out1, out2):\n",
        "                    out1_closest = np.argmin(\n",
        "                        [torch.dist(o1, center_list.get(center_key)) for center_key in center_list.keys()])\n",
        "                    out2_closest = np.argmin(\n",
        "                        [torch.dist(o2, center_list.get(center_key)) for center_key in center_list.keys()])\n",
        "                    batch_out1_closet.append(out1_closest)\n",
        "                    batch_out2_closet.append(out2_closest)\n",
        "\n",
        "                label_encoder = LabelEncoder()\n",
        "                onehot_encoder = OneHotEncoder(sparse=False, categories='auto')\n",
        "\n",
        "                out1_integer_encoded = label_encoder.fit_transform(batch_out1_closet)\n",
        "                out1_integer_encoded = out1_integer_encoded.reshape(len(out1_integer_encoded), 1)\n",
        "                out1_encoded = onehot_encoder.fit_transform(out1_integer_encoded)\n",
        "\n",
        "                out2_integer_encoded = label_encoder.fit_transform(batch_out2_closet)\n",
        "                out2_integer_encoded = out2_integer_encoded.reshape(len(out2_integer_encoded), 1)\n",
        "                out2_encoded = onehot_encoder.fit_transform(out2_integer_encoded)\n",
        "\n",
        "                n_correct = 0\n",
        "                for i in range(len(batch_out1_closet)):\n",
        "                    if torch.equal(torch.Tensor(out1_encoded[i]), torch.Tensor(out2_encoded[i])) and target[i] == 0:\n",
        "                        n_correct += 1\n",
        "                    elif ~torch.equal(torch.Tensor(out1_encoded[i]), torch.Tensor(out2_encoded[i])) and target[i] == 1:\n",
        "                        n_correct += 1\n",
        "                acc_batch = (n_correct / len(batch_out1_closet)) * 100\n",
        "\n",
        "                epoch_accuracy.append(acc_batch)\n",
        "\n",
        "            stage = 'train'\n",
        "            if dataloader == siamese_train_loader:\n",
        "                train_accuracy.append(np.mean(epoch_accuracy))\n",
        "                #writer_accuracy_train.add_scalar(scalar_value=np.mean(epoch_accuracy), global_step=epoch, tag='Accuracy')\n",
        "            else:\n",
        "                stage = 'eval'\n",
        "                test_accuracy.append(np.mean(epoch_accuracy))\n",
        "                #writer_accuracy_test.add_scalar(scalar_value=np.mean(epoch_accuracy), global_step=epoch, tag='Accuracy')\n",
        "\n",
        "            print(\"Epoch : \", epoch, \"Stage : \", stage, \"Accuracy : \", np.mean(epoch_accuracy))\n",
        "\n",
        "\n",
        "draw_loss_plot(train_losses, eval_losses, epochs)\n",
        "draw_accuracy_plot(train_accuracy,test_accuracy,epochs)\n",
        "\n",
        "\n",
        "\n",
        "\n",
        "\n",
        "\n",
        "\n",
        "\n",
        "\n",
        "\n",
        "\n",
        "\n",
        "\n",
        "\n",
        "\n",
        "\n"
      ],
      "execution_count": 1,
      "outputs": [
        {
          "output_type": "stream",
          "text": [
            "/usr/local/lib/python3.6/dist-packages/statsmodels/tools/_testing.py:19: FutureWarning: pandas.util.testing is deprecated. Use the functions in the public API at pandas.testing instead.\n",
            "  import pandas.util.testing as tm\n"
          ],
          "name": "stderr"
        },
        {
          "output_type": "stream",
          "text": [
            "Downloading http://yann.lecun.com/exdb/mnist/train-images-idx3-ubyte.gz to ../data/MNIST/MNIST/raw/train-images-idx3-ubyte.gz\n"
          ],
          "name": "stdout"
        },
        {
          "output_type": "display_data",
          "data": {
            "application/vnd.jupyter.widget-view+json": {
              "model_id": "cc1025ab1a28498691c81acf3a8c032b",
              "version_minor": 0,
              "version_major": 2
            },
            "text/plain": [
              "HBox(children=(IntProgress(value=1, bar_style='info', max=1), HTML(value='')))"
            ]
          },
          "metadata": {
            "tags": []
          }
        },
        {
          "output_type": "stream",
          "text": [
            "Extracting ../data/MNIST/MNIST/raw/train-images-idx3-ubyte.gz to ../data/MNIST/MNIST/raw\n",
            "Downloading http://yann.lecun.com/exdb/mnist/train-labels-idx1-ubyte.gz to ../data/MNIST/MNIST/raw/train-labels-idx1-ubyte.gz\n"
          ],
          "name": "stdout"
        },
        {
          "output_type": "display_data",
          "data": {
            "application/vnd.jupyter.widget-view+json": {
              "model_id": "542661e3149047a48646e8d3c98b3a62",
              "version_minor": 0,
              "version_major": 2
            },
            "text/plain": [
              "HBox(children=(IntProgress(value=1, bar_style='info', max=1), HTML(value='')))"
            ]
          },
          "metadata": {
            "tags": []
          }
        },
        {
          "output_type": "stream",
          "text": [
            "Extracting ../data/MNIST/MNIST/raw/train-labels-idx1-ubyte.gz to ../data/MNIST/MNIST/raw\n",
            "Downloading http://yann.lecun.com/exdb/mnist/t10k-images-idx3-ubyte.gz to ../data/MNIST/MNIST/raw/t10k-images-idx3-ubyte.gz\n"
          ],
          "name": "stdout"
        },
        {
          "output_type": "display_data",
          "data": {
            "application/vnd.jupyter.widget-view+json": {
              "model_id": "733e2cf6f24c4a5184239bfdb29af3b6",
              "version_minor": 0,
              "version_major": 2
            },
            "text/plain": [
              "HBox(children=(IntProgress(value=1, bar_style='info', max=1), HTML(value='')))"
            ]
          },
          "metadata": {
            "tags": []
          }
        },
        {
          "output_type": "stream",
          "text": [
            "Extracting ../data/MNIST/MNIST/raw/t10k-images-idx3-ubyte.gz to ../data/MNIST/MNIST/raw\n",
            "Downloading http://yann.lecun.com/exdb/mnist/t10k-labels-idx1-ubyte.gz to ../data/MNIST/MNIST/raw/t10k-labels-idx1-ubyte.gz\n"
          ],
          "name": "stdout"
        },
        {
          "output_type": "display_data",
          "data": {
            "application/vnd.jupyter.widget-view+json": {
              "model_id": "329880f956ce4a63b99839400732d6bc",
              "version_minor": 0,
              "version_major": 2
            },
            "text/plain": [
              "HBox(children=(IntProgress(value=1, bar_style='info', max=1), HTML(value='')))"
            ]
          },
          "metadata": {
            "tags": []
          }
        },
        {
          "output_type": "stream",
          "text": [
            "Extracting ../data/MNIST/MNIST/raw/t10k-labels-idx1-ubyte.gz to ../data/MNIST/MNIST/raw\n",
            "Processing...\n",
            "Done!\n",
            "\n",
            "\n",
            "\n"
          ],
          "name": "stdout"
        },
        {
          "output_type": "stream",
          "text": [
            "/usr/local/lib/python3.6/dist-packages/torchvision/datasets/mnist.py:45: UserWarning: train_labels has been renamed targets\n",
            "  warnings.warn(\"train_labels has been renamed targets\")\n",
            "/usr/local/lib/python3.6/dist-packages/torchvision/datasets/mnist.py:55: UserWarning: train_data has been renamed data\n",
            "  warnings.warn(\"train_data has been renamed data\")\n",
            "/usr/local/lib/python3.6/dist-packages/torchvision/datasets/mnist.py:50: UserWarning: test_labels has been renamed targets\n",
            "  warnings.warn(\"test_labels has been renamed targets\")\n",
            "/usr/local/lib/python3.6/dist-packages/torchvision/datasets/mnist.py:60: UserWarning: test_data has been renamed data\n",
            "  warnings.warn(\"test_data has been renamed data\")\n"
          ],
          "name": "stderr"
        },
        {
          "output_type": "stream",
          "text": [
            "Epoch 1  traning loss  0.08994037999839681\n",
            "Epoch 1  Eval loss  0.08737368799798878\n",
            "model is saving\n"
          ],
          "name": "stdout"
        },
        {
          "output_type": "stream",
          "text": [
            "/usr/local/lib/python3.6/dist-packages/torch/serialization.py:360: UserWarning: Couldn't retrieve source code for container of type SimaseNet. It won't be checked for correctness upon loading.\n",
            "  \"type \" + obj.__name__ + \". It won't be checked \"\n"
          ],
          "name": "stderr"
        },
        {
          "output_type": "stream",
          "text": [
            "Epoch :  1 Stage :  train Accuracy :  52.79153963414634\n",
            "Epoch :  1 Stage :  eval Accuracy :  53.304140127388536\n",
            "Epoch 2  traning loss  0.0880892584895397\n",
            "Epoch 2  Eval loss  0.08754617081466295\n",
            "model is saving\n"
          ],
          "name": "stdout"
        },
        {
          "output_type": "stream",
          "text": [
            "/usr/local/lib/python3.6/dist-packages/torch/serialization.py:360: UserWarning: Couldn't retrieve source code for container of type SimaseNet. It won't be checked for correctness upon loading.\n",
            "  \"type \" + obj.__name__ + \". It won't be checked \"\n"
          ],
          "name": "stderr"
        },
        {
          "output_type": "stream",
          "text": [
            "Epoch :  2 Stage :  train Accuracy :  52.42711509146341\n",
            "Epoch :  2 Stage :  eval Accuracy :  53.105095541401276\n",
            "Epoch 3  traning loss  0.08783100304625384\n",
            "Epoch 3  Eval loss  0.08727366316086012\n",
            "model is saving\n"
          ],
          "name": "stdout"
        },
        {
          "output_type": "stream",
          "text": [
            "/usr/local/lib/python3.6/dist-packages/torch/serialization.py:360: UserWarning: Couldn't retrieve source code for container of type SimaseNet. It won't be checked for correctness upon loading.\n",
            "  \"type \" + obj.__name__ + \". It won't be checked \"\n"
          ],
          "name": "stderr"
        },
        {
          "output_type": "stream",
          "text": [
            "Epoch :  3 Stage :  train Accuracy :  52.58193597560975\n",
            "Epoch :  3 Stage :  eval Accuracy :  52.9359076433121\n",
            "Epoch 4  traning loss  0.08793507907085302\n",
            "Epoch 4  Eval loss  0.08799000853236685\n",
            "model is saving\n"
          ],
          "name": "stdout"
        },
        {
          "output_type": "stream",
          "text": [
            "/usr/local/lib/python3.6/dist-packages/torch/serialization.py:360: UserWarning: Couldn't retrieve source code for container of type SimaseNet. It won't be checked for correctness upon loading.\n",
            "  \"type \" + obj.__name__ + \". It won't be checked \"\n"
          ],
          "name": "stderr"
        },
        {
          "output_type": "stream",
          "text": [
            "Epoch :  4 Stage :  train Accuracy :  52.71532012195122\n",
            "Epoch :  4 Stage :  eval Accuracy :  53.28423566878981\n",
            "Epoch 5  traning loss  0.08786273070770066\n",
            "Epoch 5  Eval loss  0.08771128727928966\n",
            "model is saving\n"
          ],
          "name": "stdout"
        },
        {
          "output_type": "stream",
          "text": [
            "/usr/local/lib/python3.6/dist-packages/torch/serialization.py:360: UserWarning: Couldn't retrieve source code for container of type SimaseNet. It won't be checked for correctness upon loading.\n",
            "  \"type \" + obj.__name__ + \". It won't be checked \"\n"
          ],
          "name": "stderr"
        },
        {
          "output_type": "stream",
          "text": [
            "Epoch :  5 Stage :  train Accuracy :  53.06545350609756\n",
            "Epoch :  5 Stage :  eval Accuracy :  52.34872611464968\n",
            "Epoch 6  traning loss  0.08800699499367577\n",
            "Epoch 6  Eval loss  0.08784085694462695\n",
            "model is saving\n"
          ],
          "name": "stdout"
        },
        {
          "output_type": "stream",
          "text": [
            "/usr/local/lib/python3.6/dist-packages/torch/serialization.py:360: UserWarning: Couldn't retrieve source code for container of type SimaseNet. It won't be checked for correctness upon loading.\n",
            "  \"type \" + obj.__name__ + \". It won't be checked \"\n"
          ],
          "name": "stderr"
        },
        {
          "output_type": "stream",
          "text": [
            "Epoch :  6 Stage :  train Accuracy :  52.79392149390244\n",
            "Epoch :  6 Stage :  eval Accuracy :  53.115047770700635\n",
            "Epoch 7  traning loss  0.08727622335413243\n",
            "Epoch 7  Eval loss  0.08842285024992963\n",
            "model is saving\n"
          ],
          "name": "stdout"
        },
        {
          "output_type": "stream",
          "text": [
            "/usr/local/lib/python3.6/dist-packages/torch/serialization.py:360: UserWarning: Couldn't retrieve source code for container of type SimaseNet. It won't be checked for correctness upon loading.\n",
            "  \"type \" + obj.__name__ + \". It won't be checked \"\n"
          ],
          "name": "stderr"
        },
        {
          "output_type": "stream",
          "text": [
            "Epoch :  7 Stage :  train Accuracy :  53.65853658536585\n",
            "Epoch :  7 Stage :  eval Accuracy :  52.99562101910828\n",
            "Epoch 8  traning loss  0.08797019879083808\n",
            "Epoch 8  Eval loss  0.0878520628820497\n",
            "model is saving\n"
          ],
          "name": "stdout"
        },
        {
          "output_type": "stream",
          "text": [
            "/usr/local/lib/python3.6/dist-packages/torch/serialization.py:360: UserWarning: Couldn't retrieve source code for container of type SimaseNet. It won't be checked for correctness upon loading.\n",
            "  \"type \" + obj.__name__ + \". It won't be checked \"\n"
          ],
          "name": "stderr"
        },
        {
          "output_type": "stream",
          "text": [
            "Epoch :  8 Stage :  train Accuracy :  52.805830792682926\n",
            "Epoch :  8 Stage :  eval Accuracy :  52.79657643312102\n",
            "Epoch 9  traning loss  0.08778936733923308\n",
            "Epoch 9  Eval loss  0.08802266643508107\n",
            "model is saving\n"
          ],
          "name": "stdout"
        },
        {
          "output_type": "stream",
          "text": [
            "/usr/local/lib/python3.6/dist-packages/torch/serialization.py:360: UserWarning: Couldn't retrieve source code for container of type SimaseNet. It won't be checked for correctness upon loading.\n",
            "  \"type \" + obj.__name__ + \". It won't be checked \"\n"
          ],
          "name": "stderr"
        },
        {
          "output_type": "stream",
          "text": [
            "Epoch :  9 Stage :  train Accuracy :  52.22703887195122\n",
            "Epoch :  9 Stage :  eval Accuracy :  52.746815286624205\n",
            "Epoch 10  traning loss  0.08766360846688835\n",
            "Epoch 10  Eval loss  0.08737904197992162\n",
            "model is saving\n"
          ],
          "name": "stdout"
        },
        {
          "output_type": "stream",
          "text": [
            "/usr/local/lib/python3.6/dist-packages/torch/serialization.py:360: UserWarning: Couldn't retrieve source code for container of type SimaseNet. It won't be checked for correctness upon loading.\n",
            "  \"type \" + obj.__name__ + \". It won't be checked \"\n"
          ],
          "name": "stderr"
        },
        {
          "output_type": "stream",
          "text": [
            "Epoch :  10 Stage :  train Accuracy :  53.2274199695122\n",
            "Epoch :  10 Stage :  eval Accuracy :  52.81648089171974\n",
            "Epoch 11  traning loss  0.08799264078005785\n",
            "Epoch 11  Eval loss  0.08734296280758601\n",
            "model is saving\n"
          ],
          "name": "stdout"
        },
        {
          "output_type": "stream",
          "text": [
            "/usr/local/lib/python3.6/dist-packages/torch/serialization.py:360: UserWarning: Couldn't retrieve source code for container of type SimaseNet. It won't be checked for correctness upon loading.\n",
            "  \"type \" + obj.__name__ + \". It won't be checked \"\n"
          ],
          "name": "stderr"
        },
        {
          "output_type": "stream",
          "text": [
            "Epoch :  11 Stage :  train Accuracy :  52.59146341463415\n",
            "Epoch :  11 Stage :  eval Accuracy :  52.64729299363057\n",
            "Epoch 12  traning loss  0.08790685001351847\n",
            "Epoch 12  Eval loss  0.08754169256657574\n",
            "model is saving\n"
          ],
          "name": "stdout"
        },
        {
          "output_type": "stream",
          "text": [
            "/usr/local/lib/python3.6/dist-packages/torch/serialization.py:360: UserWarning: Couldn't retrieve source code for container of type SimaseNet. It won't be checked for correctness upon loading.\n",
            "  \"type \" + obj.__name__ + \". It won't be checked \"\n"
          ],
          "name": "stderr"
        },
        {
          "output_type": "stream",
          "text": [
            "Epoch :  12 Stage :  train Accuracy :  52.755811737804876\n",
            "Epoch :  12 Stage :  eval Accuracy :  53.01552547770701\n",
            "Epoch 13  traning loss  0.08788984117847753\n",
            "Epoch 13  Eval loss  0.08778540824427672\n",
            "model is saving\n"
          ],
          "name": "stdout"
        },
        {
          "output_type": "stream",
          "text": [
            "/usr/local/lib/python3.6/dist-packages/torch/serialization.py:360: UserWarning: Couldn't retrieve source code for container of type SimaseNet. It won't be checked for correctness upon loading.\n",
            "  \"type \" + obj.__name__ + \". It won't be checked \"\n"
          ],
          "name": "stderr"
        },
        {
          "output_type": "stream",
          "text": [
            "Epoch :  13 Stage :  train Accuracy :  53.23218368902439\n",
            "Epoch :  13 Stage :  eval Accuracy :  52.62738853503185\n",
            "Epoch 14  traning loss  0.08805234974431919\n",
            "Epoch 14  Eval loss  0.08808448244916632\n",
            "model is saving\n"
          ],
          "name": "stdout"
        },
        {
          "output_type": "stream",
          "text": [
            "/usr/local/lib/python3.6/dist-packages/torch/serialization.py:360: UserWarning: Couldn't retrieve source code for container of type SimaseNet. It won't be checked for correctness upon loading.\n",
            "  \"type \" + obj.__name__ + \". It won't be checked \"\n"
          ],
          "name": "stderr"
        },
        {
          "output_type": "stream",
          "text": [
            "Epoch :  14 Stage :  train Accuracy :  52.801067073170735\n",
            "Epoch :  14 Stage :  eval Accuracy :  52.61743630573248\n",
            "Epoch 15  traning loss  0.08775016702938734\n",
            "Epoch 15  Eval loss  0.08807811059110554\n",
            "model is saving\n"
          ],
          "name": "stdout"
        },
        {
          "output_type": "stream",
          "text": [
            "/usr/local/lib/python3.6/dist-packages/torch/serialization.py:360: UserWarning: Couldn't retrieve source code for container of type SimaseNet. It won't be checked for correctness upon loading.\n",
            "  \"type \" + obj.__name__ + \". It won't be checked \"\n"
          ],
          "name": "stderr"
        },
        {
          "output_type": "stream",
          "text": [
            "Epoch :  15 Stage :  train Accuracy :  52.996379573170735\n",
            "Epoch :  15 Stage :  eval Accuracy :  52.746815286624205\n",
            "Epoch 16  traning loss  0.08821081313327318\n",
            "Epoch 16  Eval loss  0.08789801576458817\n",
            "model is saving\n"
          ],
          "name": "stdout"
        },
        {
          "output_type": "stream",
          "text": [
            "/usr/local/lib/python3.6/dist-packages/torch/serialization.py:360: UserWarning: Couldn't retrieve source code for container of type SimaseNet. It won't be checked for correctness upon loading.\n",
            "  \"type \" + obj.__name__ + \". It won't be checked \"\n"
          ],
          "name": "stderr"
        },
        {
          "output_type": "stream",
          "text": [
            "Epoch :  16 Stage :  train Accuracy :  52.89395960365854\n",
            "Epoch :  16 Stage :  eval Accuracy :  53.503184713375795\n",
            "Epoch 17  traning loss  0.08742256027578217\n",
            "Epoch 17  Eval loss  0.0880926271491017\n",
            "model is saving\n"
          ],
          "name": "stdout"
        },
        {
          "output_type": "stream",
          "text": [
            "/usr/local/lib/python3.6/dist-packages/torch/serialization.py:360: UserWarning: Couldn't retrieve source code for container of type SimaseNet. It won't be checked for correctness upon loading.\n",
            "  \"type \" + obj.__name__ + \". It won't be checked \"\n"
          ],
          "name": "stderr"
        },
        {
          "output_type": "stream",
          "text": [
            "Epoch :  17 Stage :  train Accuracy :  52.69150152439025\n",
            "Epoch :  17 Stage :  eval Accuracy :  52.34872611464968\n",
            "Epoch 18  traning loss  0.08772617276394512\n",
            "Epoch 18  Eval loss  0.08808940490509601\n",
            "model is saving\n"
          ],
          "name": "stdout"
        },
        {
          "output_type": "stream",
          "text": [
            "/usr/local/lib/python3.6/dist-packages/torch/serialization.py:360: UserWarning: Couldn't retrieve source code for container of type SimaseNet. It won't be checked for correctness upon loading.\n",
            "  \"type \" + obj.__name__ + \". It won't be checked \"\n"
          ],
          "name": "stderr"
        },
        {
          "output_type": "stream",
          "text": [
            "Epoch :  18 Stage :  train Accuracy :  52.94874237804878\n",
            "Epoch :  18 Stage :  eval Accuracy :  53.115047770700635\n",
            "Epoch 19  traning loss  0.08795212594247083\n",
            "Epoch 19  Eval loss  0.08859604081891953\n",
            "model is saving\n"
          ],
          "name": "stdout"
        },
        {
          "output_type": "stream",
          "text": [
            "/usr/local/lib/python3.6/dist-packages/torch/serialization.py:360: UserWarning: Couldn't retrieve source code for container of type SimaseNet. It won't be checked for correctness upon loading.\n",
            "  \"type \" + obj.__name__ + \". It won't be checked \"\n"
          ],
          "name": "stderr"
        },
        {
          "output_type": "stream",
          "text": [
            "Epoch :  19 Stage :  train Accuracy :  53.3179306402439\n",
            "Epoch :  19 Stage :  eval Accuracy :  52.92595541401274\n",
            "Epoch 20  traning loss  0.08773395890460872\n",
            "Epoch 20  Eval loss  0.08768243301686243\n",
            "model is saving\n"
          ],
          "name": "stdout"
        },
        {
          "output_type": "stream",
          "text": [
            "/usr/local/lib/python3.6/dist-packages/torch/serialization.py:360: UserWarning: Couldn't retrieve source code for container of type SimaseNet. It won't be checked for correctness upon loading.\n",
            "  \"type \" + obj.__name__ + \". It won't be checked \"\n"
          ],
          "name": "stderr"
        },
        {
          "output_type": "stream",
          "text": [
            "Epoch :  20 Stage :  train Accuracy :  52.87728658536585\n",
            "Epoch :  20 Stage :  eval Accuracy :  53.2046178343949\n"
          ],
          "name": "stdout"
        },
        {
          "output_type": "display_data",
          "data": {
            "image/png": "[encoded data removed]",
            "text/plain": [
              "<Figure size 432x288 with 1 Axes>"
            ]
          },
          "metadata": {
            "tags": []
          }
        },
        {
          "output_type": "display_data",
          "data": {
            "image/png": "[encoded data removed]",
            "text/plain": [
              "<Figure size 432x288 with 1 Axes>"
            ]
          },
          "metadata": {
            "tags": []
          }
        }
      ]
    }
  ]
}